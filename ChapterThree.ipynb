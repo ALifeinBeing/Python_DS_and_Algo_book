{
 "cells": [
  {
   "cell_type": "markdown",
   "metadata": {},
   "source": [
    "# Principles of Algorithm Design"
   ]
  },
  {
   "cell_type": "markdown",
   "metadata": {},
   "source": [
    "Algorithms essentially have four components:\n",
    "1) Sequential Operations\n",
    "2) Actions based on the state of a data structure\n",
    "3) Iteration, repeating an action a number of times\n",
    "4) Recursion, calling itself on a subset of inputs"
   ]
  },
  {
   "cell_type": "markdown",
   "metadata": {},
   "source": [
    "There are three broad approaches to algorithms:\n",
    " 1) Divide and conquer (split into sub-problems and solve separately)\n",
    " 2) Greedy algorithms (best next step)\n",
    " 3) Dynamic programming"
   ]
  },
  {
   "cell_type": "code",
   "execution_count": 7,
   "metadata": {
    "collapsed": true
   },
   "outputs": [],
   "source": [
    "# Recursion example\n",
    "def factorial(n):\n",
    "    #base case\n",
    "    if n == 0:\n",
    "        return 1\n",
    "    #make a calculation and a recursive call\n",
    "    f = n * factorial(n-1)\n",
    "    print(f)\n",
    "    return(f)"
   ]
  },
  {
   "cell_type": "code",
   "execution_count": 8,
   "metadata": {},
   "outputs": [
    {
     "name": "stdout",
     "output_type": "stream",
     "text": [
      "1\n",
      "2\n",
      "6\n",
      "24\n"
     ]
    },
    {
     "data": {
      "text/plain": [
       "24"
      ]
     },
     "execution_count": 8,
     "metadata": {},
     "output_type": "execute_result"
    }
   ],
   "source": [
    "factorial(4)"
   ]
  },
  {
   "cell_type": "code",
   "execution_count": 11,
   "metadata": {
    "collapsed": true
   },
   "outputs": [],
   "source": [
    "#backtracking is a form of recursion that is particularly use for traversing tree structures\n",
    "#this is a divide and conquer strategy\n",
    "def bitStr(n,s):\n",
    "    if n == 1: return s\n",
    "    return [digit + bits for digit in bitStr(1,s) for bits in bitStr(n-1,s)]"
   ]
  },
  {
   "cell_type": "code",
   "execution_count": 12,
   "metadata": {},
   "outputs": [
    {
     "name": "stdout",
     "output_type": "stream",
     "text": [
      "['aaa', 'aab', 'aac', 'aba', 'abb', 'abc', 'aca', 'acb', 'acc', 'baa', 'bab', 'bac', 'bba', 'bbb', 'bbc', 'bca', 'bcb', 'bcc', 'caa', 'cab', 'cac', 'cba', 'cbb', 'cbc', 'cca', 'ccb', 'ccc']\n"
     ]
    }
   ],
   "source": [
    "print(bitStr(3,'abc'))"
   ]
  },
  {
   "cell_type": "code",
   "execution_count": 13,
   "metadata": {},
   "outputs": [
    {
     "data": {
      "text/plain": [
       "'abc'"
      ]
     },
     "execution_count": 13,
     "metadata": {},
     "output_type": "execute_result"
    }
   ],
   "source": [
    "bitStr(1,'abc')"
   ]
  },
  {
   "cell_type": "code",
   "execution_count": 15,
   "metadata": {},
   "outputs": [
    {
     "data": {
      "text/plain": [
       "['a', 'b', 'c']"
      ]
     },
     "execution_count": 15,
     "metadata": {},
     "output_type": "execute_result"
    }
   ],
   "source": [
    "[digit for digit in 'abc']"
   ]
  },
  {
   "cell_type": "code",
   "execution_count": 16,
   "metadata": {},
   "outputs": [
    {
     "data": {
      "text/plain": [
       "['a', 'b', 'c']"
      ]
     },
     "execution_count": 16,
     "metadata": {},
     "output_type": "execute_result"
    }
   ],
   "source": [
    "[bits for bits in bitStr(1,'abc')]"
   ]
  },
  {
   "cell_type": "code",
   "execution_count": 17,
   "metadata": {},
   "outputs": [
    {
     "data": {
      "text/plain": [
       "['aa', 'ab', 'ac', 'ba', 'bb', 'bc', 'ca', 'cb', 'cc']"
      ]
     },
     "execution_count": 17,
     "metadata": {},
     "output_type": "execute_result"
    }
   ],
   "source": [
    "[bits for bits in bitStr(2,'abc')]"
   ]
  },
  {
   "cell_type": "code",
   "execution_count": 6,
   "metadata": {
    "collapsed": true
   },
   "outputs": [],
   "source": [
    "#Divide and Conquer\n",
    "from math import log10\n",
    "import math"
   ]
  },
  {
   "cell_type": "code",
   "execution_count": 7,
   "metadata": {},
   "outputs": [],
   "source": [
    "def karatsuba(x,y):\n",
    "    #the base case for the reversion\n",
    "    if x < 10 or y < 10:\n",
    "        return x * y\n",
    "    \n",
    "    #sets n, the number of digits in the highest input number\n",
    "    n = max(int(log10(x)+ 1), int(log10(y) + 1))\n",
    "    \n",
    "    # rounds up n/2\n",
    "    n_2 = int(math.ceil(n/2.0))\n",
    "    #adds 1 if n is uneven\n",
    "    n = n if n % 2 == 0 else n + 1\n",
    "    \n",
    "    #splits the input numbers\n",
    "    a, b = divmod(x, 10**n_2)\n",
    "    c, d = divmod(y, 10**n_2)\n",
    "    \n",
    "    #applies the three recursive steps\n",
    "    ac = karatsuba(a,c)\n",
    "    bd = karatsuba(b,d)\n",
    "    ad_bc = karatsuba((a+b),(c+d)) - ac - bd\n",
    "    \n",
    "    #performs the multiplication\n",
    "    return(((10**n)*ac) + bd + ((10**n_2)*(ad_bc)))"
   ]
  },
  {
   "cell_type": "code",
   "execution_count": 8,
   "metadata": {
    "collapsed": true
   },
   "outputs": [],
   "source": [
    "import random\n",
    "def test():\n",
    "    for i in range(1000):\n",
    "        x = random.randint(1,10**5)\n",
    "        y = random.randint(1,10**5)\n",
    "        expected = x * y\n",
    "        result = karatsuba(x,y)\n",
    "        if result != expected:\n",
    "            return(\"failed\")\n",
    "    return(\"success\")"
   ]
  },
  {
   "cell_type": "code",
   "execution_count": 9,
   "metadata": {},
   "outputs": [
    {
     "data": {
      "text/plain": [
       "'success'"
      ]
     },
     "execution_count": 9,
     "metadata": {},
     "output_type": "execute_result"
    }
   ],
   "source": [
    "test()"
   ]
  },
  {
   "cell_type": "markdown",
   "metadata": {},
   "source": [
    "# Runtime Analysis\n",
    "Three components:\n",
    "1) Worst case scenario\n",
    "2) Ignore constant factors and lower order terms\n",
    "3) Focus on problems with large input sizes"
   ]
  },
  {
   "cell_type": "code",
   "execution_count": 15,
   "metadata": {},
   "outputs": [],
   "source": [
    "#mergesort\n",
    "def mergeSort(A):\n",
    "    #base case if the input is 1 or 0 just return\n",
    "    if len(A) > 1:\n",
    "        #split the input array\n",
    "        print('Splitting',A)\n",
    "        mid = len(A) // 2\n",
    "        left = A[:mid]\n",
    "        right = A[mid:]\n",
    "        \n",
    "        #recursive calls to mergeSort for left and right sub arrays\n",
    "        mergeSort(left)\n",
    "        mergeSort(right)\n",
    "        \n",
    "        # initalizes pointers for left (i) and right (j) output array (k)\n",
    "        #three initialization operations\n",
    "        i = j = k = 0\n",
    "        #Traverse and merges the sorted arrays\n",
    "        while i < len(left) and j < len(right):\n",
    "            #if left < right comparison operatons\n",
    "            if left[i] < right[i]:\n",
    "                #if left < right assignment operation\n",
    "                A[k]=left[i]\n",
    "                i+=1\n",
    "            else:\n",
    "                #if right <= left assignment\n",
    "                A[k] = right[j]\n",
    "                j+=1\n",
    "            k = k+1\n",
    "        while i < len(left):\n",
    "            #assignment operation\n",
    "            A[k] = left[i]\n",
    "            i = i + 1\n",
    "            k = k + 1\n",
    "            \n",
    "        while j < len(right):\n",
    "        #Assignment operation\n",
    "            A[k] = right[j]\n",
    "            j=j+1\n",
    "            k=k+1\n",
    "    print('merging',A)\n",
    "    return(A)\n",
    "            "
   ]
  },
  {
   "cell_type": "code",
   "execution_count": 16,
   "metadata": {},
   "outputs": [
    {
     "name": "stdout",
     "output_type": "stream",
     "text": [
      "('Splitting', [3, 6, 2, 1])\n",
      "('Splitting', [3, 6])\n",
      "('merging', [3])\n",
      "('merging', [6])\n",
      "('merging', [3, 6])\n",
      "('Splitting', [2, 1])\n",
      "('merging', [2])\n",
      "('merging', [1])\n",
      "('merging', [1, 2])\n",
      "('merging', [1, 2, 3, 6])\n"
     ]
    },
    {
     "data": {
      "text/plain": [
       "[1, 2, 3, 6]"
      ]
     },
     "execution_count": 16,
     "metadata": {},
     "output_type": "execute_result"
    }
   ],
   "source": [
    "mergeSort([3,6,2,1])"
   ]
  },
  {
   "cell_type": "code",
   "execution_count": null,
   "metadata": {
    "collapsed": true
   },
   "outputs": [],
   "source": []
  }
 ],
 "metadata": {
  "kernelspec": {
   "display_name": "Python 2",
   "language": "python",
   "name": "python2"
  },
  "language_info": {
   "codemirror_mode": {
    "name": "ipython",
    "version": 2
   },
   "file_extension": ".py",
   "mimetype": "text/x-python",
   "name": "python",
   "nbconvert_exporter": "python",
   "pygments_lexer": "ipython2",
   "version": "2.7.13"
  }
 },
 "nbformat": 4,
 "nbformat_minor": 2
}
