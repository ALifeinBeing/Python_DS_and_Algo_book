{
 "cells": [
  {
   "cell_type": "markdown",
   "metadata": {},
   "source": [
    "# Stacks and Queues"
   ]
  },
  {
   "cell_type": "markdown",
   "metadata": {},
   "source": [
    "Stacks are LIFO (think of a stack of plates), they are often used to keep track of where in the program the exectuion is (think multiple function calls, each one is stacked, then 'popped' off when they finish), they are also used to pass data between functions (if you have to do something for every item in a list, the list is added to a stack, then removed one by one),it keeps the push/pop (access of data) to O(1)\n"
   ]
  },
  {
   "cell_type": "code",
   "execution_count": 1,
   "metadata": {
    "collapsed": true
   },
   "outputs": [],
   "source": [
    "class Node:\n",
    "    def __init__(self, data = None):\n",
    "        self.data = data\n",
    "        self.next = None"
   ]
  },
  {
   "cell_type": "code",
   "execution_count": 6,
   "metadata": {},
   "outputs": [],
   "source": [
    "class Stack:\n",
    "    def __init__(self):\n",
    "        self.top = None\n",
    "        self.size = 0\n",
    "    \n",
    "    def push(self, data):\n",
    "        node = Node(data)\n",
    "        if self.top:\n",
    "            node.next = self.top\n",
    "            self.top = node\n",
    "        else:\n",
    "            self.top = node\n",
    "        \n",
    "        self.size += 1\n",
    "        \n",
    "    def pop(self):\n",
    "        if self.top:\n",
    "            data = self.top.data\n",
    "            self.size -= 1\n",
    "            if self.top.next:\n",
    "                self.top = self.top.next\n",
    "            else:\n",
    "                self.top = None\n",
    "            return data\n",
    "        else:\n",
    "            return None\n",
    "        \n",
    "    def peek(self):\n",
    "        if self.top:\n",
    "            return self.top.data\n",
    "        else:\n",
    "            return None"
   ]
  },
  {
   "cell_type": "code",
   "execution_count": 7,
   "metadata": {
    "collapsed": true
   },
   "outputs": [],
   "source": [
    "#we are going to write a program to see if a string containing brackets is balanced and that the brackets are correctly contained\n",
    "#within one another"
   ]
  },
  {
   "cell_type": "code",
   "execution_count": 12,
   "metadata": {},
   "outputs": [],
   "source": [
    "def check_bracket(statement):\n",
    "    stack = Stack()\n",
    "    for ch in statement:\n",
    "        if ch in ('{','[','('):\n",
    "            stack.push(ch)\n",
    "        if ch in ('}',']',')'):\n",
    "            last = stack.pop()\n",
    "            if last is '{' and ch is '}':\n",
    "                continue\n",
    "            elif last is '[' and ch is ']':\n",
    "                continue\n",
    "            elif last is '(' and ch is ')':\n",
    "                continue\n",
    "            else:\n",
    "                return False\n",
    "    if stack.size > 0:\n",
    "        return False\n",
    "    else:\n",
    "        return True"
   ]
  },
  {
   "cell_type": "code",
   "execution_count": 14,
   "metadata": {},
   "outputs": [
    {
     "data": {
      "text/plain": [
       "True"
      ]
     },
     "execution_count": 14,
     "metadata": {},
     "output_type": "execute_result"
    }
   ],
   "source": [
    "check_bracket('[ I see no ( reason to stop {})]')"
   ]
  },
  {
   "cell_type": "code",
   "execution_count": 16,
   "metadata": {},
   "outputs": [
    {
     "name": "stdout",
     "output_type": "stream",
     "text": [
      "[ I see no ( reason to stop {})]: True\n",
      "[ I see no  reason to stop {})]: False\n",
      "[ I see no ( reason to stop {}]: False\n"
     ]
    }
   ],
   "source": [
    "sl = ('[ I see no ( reason to stop {})]', '[ I see no  reason to stop {})]','[ I see no ( reason to stop {}]')\n",
    "for s in sl:\n",
    "    m = check_bracket(s)\n",
    "    print(\"{}: {}\".format(s,m))"
   ]
  },
  {
   "cell_type": "markdown",
   "metadata": {},
   "source": [
    "# Queues\n",
    "In queues, the data is FIFO (think of it like an actual line in real life), think of how jobs would be sent to a printer, "
   ]
  },
  {
   "cell_type": "code",
   "execution_count": 23,
   "metadata": {
    "collapsed": true
   },
   "outputs": [],
   "source": [
    "class ListQueue:\n",
    "    def __init__(self):\n",
    "        self.items = []\n",
    "        self.size = 0\n",
    "    \n",
    "    def enqueue(self,data):\n",
    "        #highly inefficient since it is O(n)\n",
    "        self.items.insert(0,data)\n",
    "        self.size +=1\n",
    "        \n",
    "    def dequeue(self):\n",
    "        data = self.items.pop()\n",
    "        self.size-=1\n",
    "        return data"
   ]
  },
  {
   "cell_type": "code",
   "execution_count": 25,
   "metadata": {
    "collapsed": true
   },
   "outputs": [],
   "source": [
    "class Queue:\n",
    "    def __init__(self):\n",
    "        self.inbound_stack = []\n",
    "        self.outbound_stack = []\n",
    "        \n",
    "    def enqueue(self,data):\n",
    "        self.inbound_data.append(data)\n",
    "    \n",
    "    def dequeue(self):\n",
    "        if not self.outbound_stack:\n",
    "            self.outbound_stack.append(self.inbound_stack.pop())\n",
    "        return self.outbound_stack.pop()\n",
    "    #clever"
   ]
  },
  {
   "cell_type": "code",
   "execution_count": null,
   "metadata": {
    "collapsed": true
   },
   "outputs": [],
   "source": [
    "# Node based queues\n",
    "class Queue:\n",
    "    def __init__(self):\n",
    "        self.head = None\n",
    "        self.tail = None\n",
    "        self.count = 0\n",
    "        \n",
    "    def enqueue(self,data):\n",
    "        new_node = Node(data, None, None)\n",
    "        if self.head is None:\n",
    "            self.head = new_node\n",
    "            self.tail = self.head\n",
    "        else:\n",
    "            new_node.prev = self.tail\n",
    "            self.tail.next = new_node\n",
    "            self.tail = new_node\n",
    "        self.count += 1"
   ]
  },
  {
   "cell_type": "code",
   "execution_count": 26,
   "metadata": {
    "collapsed": true
   },
   "outputs": [],
   "source": [
    "#making a media player queue\n",
    "from random import randint\n",
    "\n",
    "class Track:\n",
    "    def __init__(self, title=None):\n",
    "        self.title = title\n",
    "        self.length = randint(5,10)"
   ]
  },
  {
   "cell_type": "code",
   "execution_count": 30,
   "metadata": {},
   "outputs": [
    {
     "name": "stdout",
     "output_type": "stream",
     "text": [
      "this track is 9 long\n",
      "this track is 8 long\n"
     ]
    }
   ],
   "source": [
    "track1 = Track(\"white whistle\")\n",
    "track2 = Track(\"butter butter\")\n",
    "print(\"this track is {} long\".format(track1.length))\n",
    "\n",
    "print(\"this track is {} long\".format(track2.length))"
   ]
  },
  {
   "cell_type": "code",
   "execution_count": 31,
   "metadata": {
    "collapsed": true
   },
   "outputs": [],
   "source": [
    "import time\n",
    "\n",
    "def test(length):\n",
    "    print(\"starting\")\n",
    "    time.sleep(length)\n",
    "    print(\"finishing\")"
   ]
  },
  {
   "cell_type": "code",
   "execution_count": 33,
   "metadata": {},
   "outputs": [
    {
     "name": "stdout",
     "output_type": "stream",
     "text": [
      "starting\n",
      "finishing\n"
     ]
    }
   ],
   "source": [
    "test(10)"
   ]
  },
  {
   "cell_type": "code",
   "execution_count": null,
   "metadata": {
    "collapsed": true
   },
   "outputs": [],
   "source": []
  }
 ],
 "metadata": {
  "kernelspec": {
   "display_name": "Python 2",
   "language": "python",
   "name": "python2"
  },
  "language_info": {
   "codemirror_mode": {
    "name": "ipython",
    "version": 2
   },
   "file_extension": ".py",
   "mimetype": "text/x-python",
   "name": "python",
   "nbconvert_exporter": "python",
   "pygments_lexer": "ipython2",
   "version": "2.7.13"
  }
 },
 "nbformat": 4,
 "nbformat_minor": 2
}
