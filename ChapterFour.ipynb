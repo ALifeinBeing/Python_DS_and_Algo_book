{
 "cells": [
  {
   "cell_type": "markdown",
   "metadata": {},
   "source": [
    "# Lists"
   ]
  },
  {
   "cell_type": "code",
   "execution_count": 1,
   "metadata": {
    "collapsed": true
   },
   "outputs": [],
   "source": [
    "# Pointers allow data structures to not be stored sequentially in memory, unlike arrays where they are, arrays are faster and \n",
    "#smaller though"
   ]
  },
  {
   "cell_type": "markdown",
   "metadata": {},
   "source": [
    "Nodes are essentially a grouping of metadata, it has a value, a datatype, a name, and often pointers to other nodes (now keep in mind, usually the node does not even contain the data value, but instead a pointer to where the data value is stored. The nodes at the ends of lists that are pointers, point to 'None' in Python"
   ]
  },
  {
   "cell_type": "code",
   "execution_count": 6,
   "metadata": {
    "collapsed": true
   },
   "outputs": [],
   "source": [
    "class Node:\n",
    "    def __init__(self, data=None):\n",
    "        self.data = data\n",
    "        self.next = None\n",
    "    \n",
    "    def __str__(self):\n",
    "        return str(self.data)"
   ]
  },
  {
   "cell_type": "markdown",
   "metadata": {},
   "source": [
    "# Single Linked Lists"
   ]
  },
  {
   "cell_type": "markdown",
   "metadata": {},
   "source": [
    "Singly linked lists can only be traveresed in one direction, they have one pointer, and it is to the next node"
   ]
  },
  {
   "cell_type": "code",
   "execution_count": 12,
   "metadata": {
    "collapsed": true
   },
   "outputs": [],
   "source": [
    "n1 = Node('eggs')\n",
    "n2 = Node('ham')\n",
    "n3 = Node('spam')"
   ]
  },
  {
   "cell_type": "code",
   "execution_count": 13,
   "metadata": {
    "collapsed": true
   },
   "outputs": [],
   "source": [
    "n1.next = n2\n",
    "n2.next = n3"
   ]
  },
  {
   "cell_type": "code",
   "execution_count": 14,
   "metadata": {},
   "outputs": [
    {
     "name": "stdout",
     "output_type": "stream",
     "text": [
      "eggs\n",
      "ham\n",
      "spam\n"
     ]
    }
   ],
   "source": [
    "current = n1\n",
    "while current:\n",
    "    print(current.data)\n",
    "    current = current.next"
   ]
  },
  {
   "cell_type": "code",
   "execution_count": 15,
   "metadata": {
    "collapsed": true
   },
   "outputs": [],
   "source": [
    "# This is too manual and simplisitic, we should do it with a class instead"
   ]
  },
  {
   "cell_type": "code",
   "execution_count": 101,
   "metadata": {},
   "outputs": [],
   "source": [
    "class SinglyLinkedList:\n",
    "    def __init__(self):\n",
    "        self.head = None\n",
    "        self.tail = None\n",
    "        self.size = 0\n",
    "        \n",
    "    def append(self, data):\n",
    "        #encapsulate the data in a Node\n",
    "        node = Node(data)\n",
    "        \n",
    "        if self.head:\n",
    "            self.head.next = node\n",
    "            self.head = node\n",
    "        else:\n",
    "            self.tail = node\n",
    "            self.head = node\n",
    "        self.size += 1\n",
    "        print(\"there are now\",self.size,\"items in this list\")\n",
    "    \n",
    "    def iter(self):\n",
    "        current = self.tail\n",
    "        while current:\n",
    "            val = current.data\n",
    "            current = current.next\n",
    "            yield val\n",
    "            \n",
    "    def delete(self,data):\n",
    "        current = self.tail\n",
    "        prev = self.tail\n",
    "        while current:\n",
    "            if current.data == data:\n",
    "                if self.tail == self.tail:\n",
    "                    self.tail = current.next\n",
    "                else:\n",
    "                    prev.next = current.next\n",
    "                self.size -= 1\n",
    "                return\n",
    "            prev = current\n",
    "            current = current.next\n",
    "            \n",
    "    def search(self,data):\n",
    "        for node in self.iter():\n",
    "            if data == node:\n",
    "                return True\n",
    "        return False\n",
    "    \n",
    "    def clear(self):\n",
    "        self.tail = None\n",
    "        self.head = None\n",
    "        self.size = 0"
   ]
  },
  {
   "cell_type": "code",
   "execution_count": 102,
   "metadata": {},
   "outputs": [
    {
     "name": "stdout",
     "output_type": "stream",
     "text": [
      "('there are now', 1, 'items in this list')\n",
      "('there are now', 2, 'items in this list')\n",
      "('there are now', 3, 'items in this list')\n"
     ]
    }
   ],
   "source": [
    "words = SinglyLinkedList()\n",
    "words.append('eggs')\n",
    "words.append('ham')\n",
    "words.append('spam')"
   ]
  },
  {
   "cell_type": "code",
   "execution_count": 103,
   "metadata": {},
   "outputs": [
    {
     "name": "stdout",
     "output_type": "stream",
     "text": [
      "eggs\n",
      "ham\n",
      "spam\n"
     ]
    }
   ],
   "source": [
    "current = words.tail\n",
    "while current:\n",
    "    print(current.data)\n",
    "    current = current.next"
   ]
  },
  {
   "cell_type": "code",
   "execution_count": 104,
   "metadata": {
    "collapsed": true
   },
   "outputs": [],
   "source": [
    "#NOTE that tail is the first item in the list, the 'head' is the most recent item, or the 'end'"
   ]
  },
  {
   "cell_type": "code",
   "execution_count": 105,
   "metadata": {},
   "outputs": [
    {
     "data": {
      "text/plain": [
       "3"
      ]
     },
     "execution_count": 105,
     "metadata": {},
     "output_type": "execute_result"
    }
   ],
   "source": [
    "words.size"
   ]
  },
  {
   "cell_type": "code",
   "execution_count": 106,
   "metadata": {
    "collapsed": true
   },
   "outputs": [],
   "source": [
    "#We dont want the clients to ever have to interact with the Node class, so we can add an iterator class to our list"
   ]
  },
  {
   "cell_type": "code",
   "execution_count": 114,
   "metadata": {},
   "outputs": [],
   "source": [
    "for i in words.iter():\n",
    "    print(i)"
   ]
  },
  {
   "cell_type": "code",
   "execution_count": 108,
   "metadata": {},
   "outputs": [],
   "source": [
    "words.delete('eggs')"
   ]
  },
  {
   "cell_type": "code",
   "execution_count": 109,
   "metadata": {},
   "outputs": [
    {
     "data": {
      "text/plain": [
       "2"
      ]
     },
     "execution_count": 109,
     "metadata": {},
     "output_type": "execute_result"
    }
   ],
   "source": [
    "words.size"
   ]
  },
  {
   "cell_type": "code",
   "execution_count": 110,
   "metadata": {},
   "outputs": [
    {
     "data": {
      "text/plain": [
       "True"
      ]
     },
     "execution_count": 110,
     "metadata": {},
     "output_type": "execute_result"
    }
   ],
   "source": [
    "words.search('ham')"
   ]
  },
  {
   "cell_type": "code",
   "execution_count": 111,
   "metadata": {},
   "outputs": [
    {
     "data": {
      "text/plain": [
       "2"
      ]
     },
     "execution_count": 111,
     "metadata": {},
     "output_type": "execute_result"
    }
   ],
   "source": [
    "words.size"
   ]
  },
  {
   "cell_type": "code",
   "execution_count": 112,
   "metadata": {},
   "outputs": [],
   "source": [
    "words.clear()"
   ]
  },
  {
   "cell_type": "code",
   "execution_count": 113,
   "metadata": {},
   "outputs": [
    {
     "data": {
      "text/plain": [
       "0"
      ]
     },
     "execution_count": 113,
     "metadata": {},
     "output_type": "execute_result"
    }
   ],
   "source": [
    "words.size"
   ]
  },
  {
   "cell_type": "markdown",
   "metadata": {},
   "source": [
    "# Doubly Linked Lists\n",
    "These nodes point forwards and backwards, note the switch in meaning between head and tail to mean the exact opposite as before"
   ]
  },
  {
   "cell_type": "code",
   "execution_count": 117,
   "metadata": {},
   "outputs": [],
   "source": [
    "class Node(object):\n",
    "    def __init__(self, data=None, next=None,prev=None):\n",
    "        self.data = data\n",
    "        self.next = next\n",
    "        self.prev = prev"
   ]
  },
  {
   "cell_type": "code",
   "execution_count": 122,
   "metadata": {
    "collapsed": true
   },
   "outputs": [],
   "source": [
    "class DoublyLinkedList(object):\n",
    "    def __init__(self):\n",
    "        self.head = None\n",
    "        self.tail = None\n",
    "        self.count = 0\n",
    "        \n",
    "    def append(self,data):\n",
    "        \"\"\"append a new item to the list\"\"\"\n",
    "        \n",
    "        new_node = Node(data, None, None)\n",
    "        if self.head is None:\n",
    "            self.head = new_node\n",
    "            self.tail = self.head\n",
    "        else:\n",
    "            new_node.prev = self.tail\n",
    "            self.tail.next = new_node\n",
    "            self.tail = new_node\n",
    "            \n",
    "            self.count += 1\n",
    "            \n",
    "    def delete(self, data):\n",
    "        current = self.head\n",
    "        \n",
    "        if current == None:\n",
    "            node_deleted = False\n",
    "        \n",
    "        elif current.data == data:\n",
    "            self.head = current.next\n",
    "            #this is necessary so the head doesnt still try to point back to the deleted node\n",
    "            self.head.prev = None\n",
    "            node_deleted = True\n",
    "            \n",
    "        elif current.tail == data:\n",
    "            self.tail = self.tail.prev\n",
    "            self.tail.next = None\n",
    "            node_deleted = True\n",
    "        \n",
    "        else:\n",
    "            while current:\n",
    "                if current.data == data:\n",
    "                    current.prev.next = current.next\n",
    "                    current.next.prev = current.prev\n",
    "                    node_deleted = True\n",
    "                current = current.next\n",
    "        \n",
    "        if node_deleted:\n",
    "            self.count -= 1\n",
    "            \n",
    "    def contain(self, data):\n",
    "        #for this to work we would need to implement a similar iter class \n",
    "        for node_data in self.iter():\n",
    "            if data == node_data:\n",
    "                return True\n",
    "            return False"
   ]
  },
  {
   "cell_type": "markdown",
   "metadata": {},
   "source": [
    "# Circular Lists\n",
    "Circular Lists are lists where the head points to the tail, and vice versa"
   ]
  },
  {
   "cell_type": "code",
   "execution_count": null,
   "metadata": {
    "collapsed": true
   },
   "outputs": [],
   "source": []
  },
  {
   "cell_type": "code",
   "execution_count": null,
   "metadata": {
    "collapsed": true
   },
   "outputs": [],
   "source": []
  },
  {
   "cell_type": "code",
   "execution_count": null,
   "metadata": {
    "collapsed": true
   },
   "outputs": [],
   "source": []
  },
  {
   "cell_type": "code",
   "execution_count": null,
   "metadata": {
    "collapsed": true
   },
   "outputs": [],
   "source": []
  },
  {
   "cell_type": "code",
   "execution_count": null,
   "metadata": {
    "collapsed": true
   },
   "outputs": [],
   "source": []
  },
  {
   "cell_type": "code",
   "execution_count": null,
   "metadata": {
    "collapsed": true
   },
   "outputs": [],
   "source": []
  },
  {
   "cell_type": "code",
   "execution_count": null,
   "metadata": {
    "collapsed": true
   },
   "outputs": [],
   "source": []
  },
  {
   "cell_type": "code",
   "execution_count": null,
   "metadata": {
    "collapsed": true
   },
   "outputs": [],
   "source": []
  },
  {
   "cell_type": "code",
   "execution_count": null,
   "metadata": {
    "collapsed": true
   },
   "outputs": [],
   "source": []
  },
  {
   "cell_type": "code",
   "execution_count": null,
   "metadata": {
    "collapsed": true
   },
   "outputs": [],
   "source": []
  },
  {
   "cell_type": "code",
   "execution_count": null,
   "metadata": {
    "collapsed": true
   },
   "outputs": [],
   "source": []
  },
  {
   "cell_type": "code",
   "execution_count": null,
   "metadata": {
    "collapsed": true
   },
   "outputs": [],
   "source": []
  },
  {
   "cell_type": "code",
   "execution_count": null,
   "metadata": {
    "collapsed": true
   },
   "outputs": [],
   "source": []
  },
  {
   "cell_type": "code",
   "execution_count": null,
   "metadata": {
    "collapsed": true
   },
   "outputs": [],
   "source": []
  },
  {
   "cell_type": "code",
   "execution_count": null,
   "metadata": {
    "collapsed": true
   },
   "outputs": [],
   "source": []
  },
  {
   "cell_type": "code",
   "execution_count": null,
   "metadata": {
    "collapsed": true
   },
   "outputs": [],
   "source": []
  },
  {
   "cell_type": "markdown",
   "metadata": {},
   "source": [
    "Space\n",
    "Space\n",
    "Space\n",
    "Space\n",
    "Space\n",
    "Space\n",
    "Space\n",
    "Space\n",
    "Space\n",
    "Space\n",
    "Space\n",
    "Space\n",
    "Space\n",
    "Space\n",
    "Space\n",
    "Space\n",
    "Space\n",
    "Space\n",
    "Space\n",
    "Space\n",
    "Space\n",
    "Space\n",
    "Space\n",
    "Space\n",
    "Space\n",
    "Space\n",
    "Space\n",
    "Space\n",
    "Space\n",
    "Space\n",
    "Space\n",
    "Space\n",
    "Space\n",
    "Space\n",
    "Space\n",
    "Space\n",
    "Space\n",
    "Space\n",
    "Space\n",
    "Space\n",
    "Space\n",
    "Space\n",
    "Space\n",
    "Space\n",
    "Space\n",
    "Space\n",
    "Space\n",
    "Space\n",
    "Space\n",
    "Space\n",
    "Space\n",
    "Space\n",
    "Space\n",
    "Space\n",
    "Space\n",
    "Space\n",
    "Space\n",
    "Space\n",
    "Space\n",
    "Space\n",
    "Space\n",
    "Space\n",
    "Space\n",
    "Space"
   ]
  }
 ],
 "metadata": {
  "kernelspec": {
   "display_name": "Python 2",
   "language": "python",
   "name": "python2"
  },
  "language_info": {
   "codemirror_mode": {
    "name": "ipython",
    "version": 2
   },
   "file_extension": ".py",
   "mimetype": "text/x-python",
   "name": "python",
   "nbconvert_exporter": "python",
   "pygments_lexer": "ipython2",
   "version": "2.7.13"
  }
 },
 "nbformat": 4,
 "nbformat_minor": 2
}
