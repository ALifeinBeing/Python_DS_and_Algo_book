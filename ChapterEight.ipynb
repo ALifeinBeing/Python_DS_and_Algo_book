{
 "cells": [
  {
   "cell_type": "markdown",
   "metadata": {},
   "source": [
    "# Graphs"
   ]
  },
  {
   "cell_type": "markdown",
   "metadata": {},
   "source": [
    "<b>*Definitions*</b> <br>\n",
    "<b>Node/vertex:</b> A point, usually represented by a dot on a graph <br>\n",
    "<b>Edge:</b> A connection between two nodes/vertices, can be directed or undirected, depending on if the graph is directed or undirected, then can also be 'weighted' or contain more information (time for instance if modeling paths to walk, or probabilities)<br>\n",
    "<b>Loop:</b> When an edge from a node is incident on itself, that edge forms a loop<br>\n",
    "<b>Degree of a vertex:</b> The number of vertices that are incident on a given vertex (the number of edges)<br>\n",
    "<b>Adjacency:</b> The connections between a node and it's neighbor, if there is an edge between two nodes, they are adjacent<br>\n",
    "<b>Path:</b> A sequence of vertices where each adjacent pair is connected by an edge<br>"
   ]
  },
  {
   "cell_type": "code",
   "execution_count": 1,
   "metadata": {
    "collapsed": true
   },
   "outputs": [],
   "source": [
    "# One of the two ways to represent a graph is as an 'Adjacency List' where the index of the list contains the adjacent nodes\n",
    "graph = dict()\n",
    "graph['A'] = ['B','C']\n",
    "graph['B'] = ['E','A']\n",
    "graph['C'] = ['A','B','E','F']\n",
    "graph['E'] = ['B','C']\n",
    "graph['F'] = ['C']"
   ]
  },
  {
   "cell_type": "code",
   "execution_count": 2,
   "metadata": {
    "collapsed": true
   },
   "outputs": [],
   "source": [
    "# The other way is an 'Adjacency matrix' with 0 or 1 to show of there is an edge between two nodes (identified by row/column)\n",
    "matrix_elements = sorted(graph.keys())\n",
    "cols = rows = len(matrix_elements)\n",
    "adjacency_matrix = [[0 for x in range(rows)] for y in range(cols)]\n",
    "edges_list = []"
   ]
  },
  {
   "cell_type": "code",
   "execution_count": 3,
   "metadata": {
    "collapsed": true
   },
   "outputs": [],
   "source": [
    "for key in matrix_elements:\n",
    "    for neighbor in graph[key]:\n",
    "        edges_list.append((key,neighbor))"
   ]
  },
  {
   "cell_type": "code",
   "execution_count": 4,
   "metadata": {},
   "outputs": [
    {
     "data": {
      "text/plain": [
       "[('A', 'B'),\n",
       " ('A', 'C'),\n",
       " ('B', 'E'),\n",
       " ('B', 'A'),\n",
       " ('C', 'A'),\n",
       " ('C', 'B'),\n",
       " ('C', 'E'),\n",
       " ('C', 'F'),\n",
       " ('E', 'B'),\n",
       " ('E', 'C'),\n",
       " ('F', 'C')]"
      ]
     },
     "execution_count": 4,
     "metadata": {},
     "output_type": "execute_result"
    }
   ],
   "source": [
    "edges_list"
   ]
  },
  {
   "cell_type": "code",
   "execution_count": 5,
   "metadata": {},
   "outputs": [
    {
     "data": {
      "text/plain": [
       "[[0, 0, 0, 0, 0],\n",
       " [0, 0, 0, 0, 0],\n",
       " [0, 0, 0, 0, 0],\n",
       " [0, 0, 0, 0, 0],\n",
       " [0, 0, 0, 0, 0]]"
      ]
     },
     "execution_count": 5,
     "metadata": {},
     "output_type": "execute_result"
    }
   ],
   "source": [
    "adjacency_matrix"
   ]
  },
  {
   "cell_type": "code",
   "execution_count": 6,
   "metadata": {
    "collapsed": true
   },
   "outputs": [],
   "source": [
    "for edge in edges_list:\n",
    "    index_of_first_vertex = matrix_elements.index(edge[0])\n",
    "    index_of_second_vertex = matrix_elements.index(edge[1])\n",
    "    adjacency_matrix[index_of_first_vertex][index_of_second_vertex] = 1"
   ]
  },
  {
   "cell_type": "markdown",
   "metadata": {},
   "source": [
    "# Searching"
   ]
  },
  {
   "cell_type": "markdown",
   "metadata": {},
   "source": [
    "## Breadth-First Search\n",
    "This is when you start at a node, choose that node as your root, and visit the neighboring nodes, then going on to explore their neighbors"
   ]
  },
  {
   "cell_type": "code",
   "execution_count": 7,
   "metadata": {
    "collapsed": true
   },
   "outputs": [],
   "source": [
    "# Example\n",
    "graph = dict()\n",
    "graph['A'] = ['B','G','D']\n",
    "graph['B'] = ['A','F','E']\n",
    "graph['C'] = ['F','H']\n",
    "graph['D'] = ['F','A']\n",
    "graph['E'] = ['B','G']\n",
    "graph['F'] = ['B','D','C']\n",
    "graph['G'] = ['A','E']\n",
    "graph['H'] = ['C']"
   ]
  },
  {
   "cell_type": "code",
   "execution_count": 8,
   "metadata": {
    "collapsed": true
   },
   "outputs": [],
   "source": [
    "from collections import deque\n",
    "\n",
    "def breadth_first_search(graph,root):\n",
    "    visited_vertices = list()\n",
    "    graph_queue = deque([root])\n",
    "    visited_vertices.append(root)\n",
    "    node = root\n",
    "    \n",
    "    while len(graph_queue) > 0:\n",
    "        node = graph_queue.popleft()\n",
    "        adj_nodes = graph[node]\n",
    "        remaining_elements = set(adj_nodes).difference(set(visited_vertices))\n",
    "        if len(remaining_elements) > 0:\n",
    "            for elem in sorted(remaining_elements):\n",
    "                visited_vertices.append(elem)\n",
    "                graph_queue.append(elem)\n",
    "    return visited_vertices"
   ]
  },
  {
   "cell_type": "code",
   "execution_count": 17,
   "metadata": {},
   "outputs": [
    {
     "data": {
      "text/plain": [
       "['A', 'B', 'D', 'G', 'E', 'F', 'C', 'H']"
      ]
     },
     "execution_count": 17,
     "metadata": {},
     "output_type": "execute_result"
    }
   ],
   "source": [
    "breadth_first_search(graph,'A')"
   ]
  },
  {
   "cell_type": "markdown",
   "metadata": {
    "collapsed": true
   },
   "source": [
    "## Depth-First Search\n",
    "This is when you start with a node, choose that node as your root, and visit the children all the way down before going to each level"
   ]
  },
  {
   "cell_type": "code",
   "execution_count": 73,
   "metadata": {},
   "outputs": [
    {
     "name": "stdout",
     "output_type": "stream",
     "text": [
      "\n"
     ]
    }
   ],
   "source": [
    "def depth_first_search(graph,root):\n",
    "    visited_vertices = list()\n",
    "    graph_stack = list()\n",
    "    \n",
    "    graph_stack.append(root)\n",
    "    node = root\n",
    "    \n",
    "    while len(graph_stack) > 0:\n",
    "        if node not in visited_vertices:\n",
    "            visited_vertices.append(node)\n",
    "        adj_nodes = graph[node]\n",
    "        if set(adj_nodes).issubset(set(visited_vertices)):\n",
    "            graph_stack.pop()\n",
    "            \n",
    "        if len(graph_stack) > 0:\n",
    "            node = graph_stack[-1]\n",
    "            print(visited_vertices)\n",
    "            continue\n",
    "            \n",
    "        else:\n",
    "            remaining_elements = set(adj_nodes).difference(set(visited_vertices))\n",
    "\n",
    "        first_adj_node = sorted(remaining_elements[0])\n",
    "        \n",
    "        graph_stack.append(first_adj_node)\n",
    "        node = first_adj_node\n",
    "    return visited_vertices"
   ]
  },
  {
   "cell_type": "code",
   "execution_count": null,
   "metadata": {},
   "outputs": [],
   "source": [
    "depth_first_search(graph,'A')"
   ]
  },
  {
   "cell_type": "code",
   "execution_count": null,
   "metadata": {
    "collapsed": true
   },
   "outputs": [],
   "source": []
  }
 ],
 "metadata": {
  "kernelspec": {
   "display_name": "Python 2",
   "language": "python",
   "name": "python2"
  },
  "language_info": {
   "codemirror_mode": {
    "name": "ipython",
    "version": 2
   },
   "file_extension": ".py",
   "mimetype": "text/x-python",
   "name": "python",
   "nbconvert_exporter": "python",
   "pygments_lexer": "ipython2",
   "version": "2.7.13"
  }
 },
 "nbformat": 4,
 "nbformat_minor": 2
}
