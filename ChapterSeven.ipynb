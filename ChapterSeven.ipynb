{
 "cells": [
  {
   "cell_type": "markdown",
   "metadata": {},
   "source": [
    "# Hashing"
   ]
  },
  {
   "cell_type": "markdown",
   "metadata": {},
   "source": [
    "Hashing (for now) can be considered a way to turn data of arbitrary length into data of a fixed length, consider the case of strings, you could use 'ordinal numbers' for each character, sum them, and then have a value, but there might be collisions if the letters of two strings are the same but in different orders, you could use the ordinal number multiplied by the position to deal with this, you theoretically want 0 collisions, but that costs time, so it is better to deal with a faster algo, and find ways to deal with the collisions"
   ]
  },
  {
   "cell_type": "code",
   "execution_count": 1,
   "metadata": {
    "collapsed": true
   },
   "outputs": [],
   "source": [
    "def myhash(s):\n",
    "    mult = 1\n",
    "    hv = 0\n",
    "    for ch in s:\n",
    "        hv += mult * ord(ch)\n",
    "        mult += 1\n",
    "    return(hv)"
   ]
  },
  {
   "cell_type": "code",
   "execution_count": 5,
   "metadata": {},
   "outputs": [
    {
     "name": "stdout",
     "output_type": "stream",
     "text": [
      "hello world:6736\n",
      "world hello:6616\n",
      "gello xorld:6742\n"
     ]
    }
   ],
   "source": [
    "for item in ('hello world', 'world hello','gello xorld'):\n",
    "    print(\"{}:{}\".format(item,myhash(item)))"
   ]
  },
  {
   "cell_type": "code",
   "execution_count": 9,
   "metadata": {},
   "outputs": [
    {
     "name": "stdout",
     "output_type": "stream",
     "text": [
      "The hash value of ad is 297\n"
     ]
    }
   ],
   "source": [
    "print(\"The hash value of {} is {}\".format(\"ad\",myhash(\"ad\")))"
   ]
  },
  {
   "cell_type": "code",
   "execution_count": 10,
   "metadata": {},
   "outputs": [
    {
     "name": "stdout",
     "output_type": "stream",
     "text": [
      "The hash value of ga is 297\n"
     ]
    }
   ],
   "source": [
    "print(\"The hash value of {} is {}\".format(\"ga\",myhash(\"ga\")))"
   ]
  },
  {
   "cell_type": "code",
   "execution_count": 11,
   "metadata": {
    "collapsed": true
   },
   "outputs": [],
   "source": [
    "# A hash table is a form of list where the elements are accessed by a keyword rather than an index number\n",
    "class HashItem:\n",
    "    def __init__(self, key, value):\n",
    "        self.key = key\n",
    "        self.value = value"
   ]
  },
  {
   "cell_type": "code",
   "execution_count": 19,
   "metadata": {
    "collapsed": true
   },
   "outputs": [],
   "source": [
    "class HashTable:\n",
    "    def __init__(self):\n",
    "        self.size = 256\n",
    "        self.slots = [None for i in range(self.size)]\n",
    "        self.count = 0\n",
    "        \n",
    "    def _hash(self, key):\n",
    "        mult = 1\n",
    "        hv = 0\n",
    "        for ch in key:\n",
    "            hv += mult * ord(ch)\n",
    "            mult += 1\n",
    "        return hv % self.size #remainder will always be between 1-255\n",
    "    \n",
    "    def put(self, key, value):\n",
    "        item = HashItem(key, value)\n",
    "        h = self._hash(key)\n",
    "        \n",
    "        while self.slots[h] is not None:\n",
    "            if self.slots[h].key is key:\n",
    "                break\n",
    "            h = (h + 1) % self.size\n",
    "        \n",
    "        if self.slots[h] is None:\n",
    "            self.count += 1\n",
    "        self.slots[h] = item\n",
    "        \n",
    "    def get(self, key):\n",
    "        h = self._hash(key)\n",
    "        while self.slots[h] is not None:\n",
    "            if self.slots[h].key is key:\n",
    "                return self.slots[h].value\n",
    "            h = (h + 1) % self.size\n",
    "        return None"
   ]
  },
  {
   "cell_type": "code",
   "execution_count": 20,
   "metadata": {
    "collapsed": true
   },
   "outputs": [],
   "source": [
    "ht = HashTable()\n",
    "ht.put(\"good\",\"eggs\")\n",
    "ht.put(\"better\",\"ham\")\n",
    "ht.put(\"best\",\"spam\")\n",
    "ht.put(\"ad\",\"do not\")\n",
    "ht.put(\"ga\",\"collide\")"
   ]
  },
  {
   "cell_type": "code",
   "execution_count": 21,
   "metadata": {},
   "outputs": [
    {
     "name": "stdout",
     "output_type": "stream",
     "text": [
      "eggs\n",
      "ham\n",
      "spam\n",
      "None\n",
      "do not\n",
      "collide\n"
     ]
    }
   ],
   "source": [
    "for key in (\"good\",\"better\",\"best\",\"worst\",\"ad\",\"ga\"):\n",
    "    v = ht.get(key)\n",
    "    print(v)"
   ]
  },
  {
   "cell_type": "code",
   "execution_count": null,
   "metadata": {
    "collapsed": true
   },
   "outputs": [],
   "source": []
  }
 ],
 "metadata": {
  "kernelspec": {
   "display_name": "Python 2",
   "language": "python",
   "name": "python2"
  },
  "language_info": {
   "codemirror_mode": {
    "name": "ipython",
    "version": 2
   },
   "file_extension": ".py",
   "mimetype": "text/x-python",
   "name": "python",
   "nbconvert_exporter": "python",
   "pygments_lexer": "ipython2",
   "version": "2.7.13"
  }
 },
 "nbformat": 4,
 "nbformat_minor": 2
}
