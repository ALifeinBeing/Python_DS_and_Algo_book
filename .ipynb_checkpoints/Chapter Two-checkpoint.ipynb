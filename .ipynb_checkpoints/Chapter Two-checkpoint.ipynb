{
 "cells": [
  {
   "cell_type": "markdown",
   "metadata": {},
   "source": [
    "# Data Types and Structures"
   ]
  },
  {
   "cell_type": "markdown",
   "metadata": {},
   "source": [
    "## Operations and Expressions\n",
    "There are a number of operations that are common to all data types"
   ]
  },
  {
   "cell_type": "markdown",
   "metadata": {},
   "source": [
    "### truth value\n",
    "Everything is 'True' except:\n",
    "1) The None type\n",
    "2) False\n",
    "3) An integer, float, or complex number that is 0\n",
    "4) An empty sequence or mapping\n",
    "5) An instance of a user-defined class that defines a __len__() or __bool__() method that returns 0 or False"
   ]
  },
  {
   "cell_type": "markdown",
   "metadata": {},
   "source": [
    "### Boolean Methods and Comparison and Arithmetic Operators\n",
    "DUH"
   ]
  },
  {
   "cell_type": "markdown",
   "metadata": {},
   "source": [
    "### Membership, identity, and logical operation\n",
    "Membership (in/not in) tests for variables in a sequence, it tests exactly how you would expect"
   ]
  },
  {
   "cell_type": "code",
   "execution_count": 3,
   "metadata": {},
   "outputs": [
    {
     "data": {
      "text/plain": [
       "True"
      ]
     },
     "execution_count": 3,
     "metadata": {},
     "output_type": "execute_result"
    }
   ],
   "source": [
    "# object identity is a bit more complicated\n",
    "x = [1,2,3] ; y = [1,2,3]\n",
    "#testing for equivalence\n",
    "x == y"
   ]
  },
  {
   "cell_type": "code",
   "execution_count": 4,
   "metadata": {},
   "outputs": [
    {
     "data": {
      "text/plain": [
       "False"
      ]
     },
     "execution_count": 4,
     "metadata": {},
     "output_type": "execute_result"
    }
   ],
   "source": [
    "#testing for identity\n",
    "x is y"
   ]
  },
  {
   "cell_type": "code",
   "execution_count": 5,
   "metadata": {},
   "outputs": [
    {
     "data": {
      "text/plain": [
       "True"
      ]
     },
     "execution_count": 5,
     "metadata": {},
     "output_type": "execute_result"
    }
   ],
   "source": [
    "#assigning identity\n",
    "x = y\n",
    "\n",
    "x is y"
   ]
  },
  {
   "cell_type": "markdown",
   "metadata": {},
   "source": [
    "# Built-In Data Types\n",
    "Python has several built-in data types across three categories: numeric, sequence, and mapping. Classes, files, and exceptions are also 'types' but are not considered here. Every value in Python has a 'data type', and they do not need to be explicitly called or declared at variable creation"
   ]
  },
  {
   "cell_type": "code",
   "execution_count": 7,
   "metadata": {},
   "outputs": [
    {
     "data": {
      "text/plain": [
       "NoneType"
      ]
     },
     "execution_count": 7,
     "metadata": {},
     "output_type": "execute_result"
    }
   ],
   "source": [
    "# None Type\n",
    "x = None\n",
    "type(x)"
   ]
  },
  {
   "cell_type": "code",
   "execution_count": 93,
   "metadata": {},
   "outputs": [],
   "source": [
    "# Numeric Types\n",
    "types = {}\n",
    "values = [1,1.5,True, 2+3j]\n",
    "names = ['Int','Float','Bool','Complex']\n",
    "\n",
    "def makeTypeDict(name,val):\n",
    "    print(x)\n",
    "    print(name)\n",
    "   # types['name'] = {5}\n",
    "    types[name] = {'value': val, 'dataType': type(val)}"
   ]
  },
  {
   "cell_type": "code",
   "execution_count": 95,
   "metadata": {},
   "outputs": [],
   "source": [
    "for i in range(len(values)):\n",
    "    name_to_send = names[i]\n",
    "    val_to_send = values[i]\n",
    "    types[name_to_send] = {'value': val_to_send, 'dataType': type(val_to_send)}\n",
    "    #makeTypeDict(name_to_send,val_to_send)"
   ]
  },
  {
   "cell_type": "code",
   "execution_count": 96,
   "metadata": {},
   "outputs": [
    {
     "data": {
      "text/plain": [
       "{'Bool': {'dataType': bool, 'value': True},\n",
       " 'Complex': {'dataType': complex, 'value': (2+3j)},\n",
       " 'Float': {'dataType': float, 'value': 1.5},\n",
       " 'Int': {'dataType': int, 'value': 1}}"
      ]
     },
     "execution_count": 96,
     "metadata": {},
     "output_type": "execute_result"
    }
   ],
   "source": [
    "types"
   ]
  },
  {
   "cell_type": "code",
   "execution_count": 50,
   "metadata": {
    "collapsed": true
   },
   "outputs": [],
   "source": [
    "makeTypeDict(name = names[0], val = values[0])"
   ]
  },
  {
   "cell_type": "code",
   "execution_count": 41,
   "metadata": {},
   "outputs": [],
   "source": [
    "types['Int'] = {'value': values[0], 'dataType': type(values[0])}\n",
    "types['Float'] = {'value': values[1], 'dataType': type(values[1])}\n",
    "types['Bool'] = {'value': values[2], 'dataType': type(values[2])}\n",
    "types['Complex'] = {'value': values[3], 'dataType': type(values[3])}"
   ]
  },
  {
   "cell_type": "code",
   "execution_count": 54,
   "metadata": {},
   "outputs": [
    {
     "data": {
      "text/plain": [
       "1"
      ]
     },
     "execution_count": 54,
     "metadata": {},
     "output_type": "execute_result"
    }
   ],
   "source": [
    "values[0]"
   ]
  },
  {
   "cell_type": "code",
   "execution_count": null,
   "metadata": {
    "collapsed": true
   },
   "outputs": [],
   "source": []
  }
 ],
 "metadata": {
  "kernelspec": {
   "display_name": "Python 2",
   "language": "python",
   "name": "python2"
  },
  "language_info": {
   "codemirror_mode": {
    "name": "ipython",
    "version": 2
   },
   "file_extension": ".py",
   "mimetype": "text/x-python",
   "name": "python",
   "nbconvert_exporter": "python",
   "pygments_lexer": "ipython2",
   "version": "2.7.13"
  }
 },
 "nbformat": 4,
 "nbformat_minor": 2
}
