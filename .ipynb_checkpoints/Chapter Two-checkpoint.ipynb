{
 "cells": [
  {
   "cell_type": "markdown",
   "metadata": {},
   "source": [
    "# Data Types and Structures"
   ]
  },
  {
   "cell_type": "markdown",
   "metadata": {},
   "source": [
    "## Operations and Expressions\n",
    "There are a number of operations that are common to all data types"
   ]
  },
  {
   "cell_type": "markdown",
   "metadata": {},
   "source": [
    "### truth value\n",
    "Everything is 'True' except:\n",
    "1) The None type\n",
    "2) False\n",
    "3) An integer, float, or complex number that is 0\n",
    "4) An empty sequence or mapping\n",
    "5) An instance of a user-defined class that defines a __len__() or __bool__() method that returns 0 or False"
   ]
  },
  {
   "cell_type": "markdown",
   "metadata": {},
   "source": [
    "### Boolean Methods and Comparison and Arithmetic Operators\n",
    "DUH"
   ]
  },
  {
   "cell_type": "markdown",
   "metadata": {},
   "source": [
    "### Membership, identity, and logical operation\n",
    "Membership (in/not in) tests for variables in a sequence, it tests exactly how you would expect"
   ]
  },
  {
   "cell_type": "code",
   "execution_count": 3,
   "metadata": {},
   "outputs": [
    {
     "data": {
      "text/plain": [
       "True"
      ]
     },
     "execution_count": 3,
     "metadata": {},
     "output_type": "execute_result"
    }
   ],
   "source": [
    "# object identity is a bit more complicated\n",
    "x = [1,2,3] ; y = [1,2,3]\n",
    "#testing for equivalence\n",
    "x == y"
   ]
  },
  {
   "cell_type": "code",
   "execution_count": 4,
   "metadata": {},
   "outputs": [
    {
     "data": {
      "text/plain": [
       "False"
      ]
     },
     "execution_count": 4,
     "metadata": {},
     "output_type": "execute_result"
    }
   ],
   "source": [
    "#testing for identity\n",
    "x is y"
   ]
  },
  {
   "cell_type": "code",
   "execution_count": 5,
   "metadata": {},
   "outputs": [
    {
     "data": {
      "text/plain": [
       "True"
      ]
     },
     "execution_count": 5,
     "metadata": {},
     "output_type": "execute_result"
    }
   ],
   "source": [
    "#assigning identity\n",
    "x = y\n",
    "\n",
    "x is y"
   ]
  },
  {
   "cell_type": "markdown",
   "metadata": {},
   "source": [
    "# Built-In Data Types\n",
    "Python has several built-in data types across three categories: numeric, sequence, and mapping. Classes, files, and exceptions are also 'types' but are not considered here. Every value in Python has a 'data type', and they do not need to be explicitly called or declared at variable creation"
   ]
  },
  {
   "cell_type": "code",
   "execution_count": 7,
   "metadata": {},
   "outputs": [
    {
     "data": {
      "text/plain": [
       "NoneType"
      ]
     },
     "execution_count": 7,
     "metadata": {},
     "output_type": "execute_result"
    }
   ],
   "source": [
    "# None Type\n",
    "x = None\n",
    "type(x)"
   ]
  },
  {
   "cell_type": "code",
   "execution_count": 93,
   "metadata": {
    "collapsed": true
   },
   "outputs": [],
   "source": [
    "# Numeric Types (if you need precision there is a 'decimal' module)\n",
    "types = {}\n",
    "values = [1,1.5,True, 2+3j]\n",
    "names = ['Int','Float','Bool','Complex']\n",
    "\n",
    "def makeTypeDict(name,val):\n",
    "    print(x)\n",
    "    print(name)\n",
    "   # types['name'] = {5}\n",
    "    types[name] = {'value': val, 'dataType': type(val)}"
   ]
  },
  {
   "cell_type": "code",
   "execution_count": 95,
   "metadata": {
    "collapsed": true
   },
   "outputs": [],
   "source": [
    "for i in range(len(values)):\n",
    "    name_to_send = names[i]\n",
    "    val_to_send = values[i]\n",
    "    types[name_to_send] = {'value': val_to_send, 'dataType': type(val_to_send)}\n",
    "    #makeTypeDict(name_to_send,val_to_send)"
   ]
  },
  {
   "cell_type": "code",
   "execution_count": 96,
   "metadata": {},
   "outputs": [
    {
     "data": {
      "text/plain": [
       "{'Bool': {'dataType': bool, 'value': True},\n",
       " 'Complex': {'dataType': complex, 'value': (2+3j)},\n",
       " 'Float': {'dataType': float, 'value': 1.5},\n",
       " 'Int': {'dataType': int, 'value': 1}}"
      ]
     },
     "execution_count": 96,
     "metadata": {},
     "output_type": "execute_result"
    }
   ],
   "source": [
    "types"
   ]
  },
  {
   "cell_type": "markdown",
   "metadata": {},
   "source": [
    "## Sequence data types\n",
    "\n",
    "Sequence data types are ORDERED sets of objects indexed by non-negative integers. Lists and Tuples are sequences of arbitrary objects, strings are sequences of characters. String, tuple, and range objects are immutable.\n",
    "--All sequence types are capable of some similar operations including indexing and slicing."
   ]
  },
  {
   "cell_type": "code",
   "execution_count": 1,
   "metadata": {},
   "outputs": [
    {
     "name": "stdout",
     "output_type": "stream",
     "text": [
      "('len:', 3)\n",
      "('min:', 1)\n",
      "('max:', 3)\n",
      "('sum:', 6)\n",
      "('all:', True)\n",
      "('any:', True)\n"
     ]
    }
   ],
   "source": [
    "#All sequences also support several other methods\n",
    "s = [1,2,3]\n",
    "\n",
    "#len\n",
    "print(\"len:\",len(s))\n",
    "\n",
    "#min\n",
    "print(\"min:\",min(s))\n",
    "\n",
    "#max\n",
    "print(\"max:\",max(s))\n",
    "\n",
    "#sum\n",
    "print(\"sum:\",sum(s))\n",
    "\n",
    "#all (checks whether all elements are true)\n",
    "print(\"all:\",all(s))\n",
    "\n",
    "#any (checks whether any element is true)\n",
    "print(\"any:\",any(s))"
   ]
  },
  {
   "cell_type": "code",
   "execution_count": 2,
   "metadata": {},
   "outputs": [
    {
     "data": {
      "text/plain": [
       "[1, 2, 3, 4, 5]"
      ]
     },
     "execution_count": 2,
     "metadata": {},
     "output_type": "execute_result"
    }
   ],
   "source": [
    "#Concatentation\n",
    "r = [4,5]\n",
    "s + r"
   ]
  },
  {
   "cell_type": "code",
   "execution_count": 3,
   "metadata": {},
   "outputs": [
    {
     "data": {
      "text/plain": [
       "[1, 2, 3, 1, 2, 3, 1, 2, 3]"
      ]
     },
     "execution_count": 3,
     "metadata": {},
     "output_type": "execute_result"
    }
   ],
   "source": [
    "#making copies\n",
    "s * 3"
   ]
  },
  {
   "cell_type": "code",
   "execution_count": 7,
   "metadata": {},
   "outputs": [
    {
     "data": {
      "text/plain": [
       "1"
      ]
     },
     "execution_count": 7,
     "metadata": {},
     "output_type": "execute_result"
    }
   ],
   "source": [
    "#unpacking\n",
    "v1,v2,v3 = s\n",
    "v1"
   ]
  },
  {
   "cell_type": "markdown",
   "metadata": {},
   "source": [
    "## Tuples\n",
    "Tuples are immutable sequences of arbitrary objects, they are indexed by integers GREATER than zero. They are HASHABLE, so we can sort lists of them, and they can be used as keys to dictionaries, they are essentially created similar to a list but with '()' instead of '[]'. ALWAYS use a trailing comma if there is just one element."
   ]
  },
  {
   "cell_type": "code",
   "execution_count": 9,
   "metadata": {},
   "outputs": [
    {
     "name": "stdout",
     "output_type": "stream",
     "text": [
      "((1, 2, 3), ('k', 'a', 'n', 'e'))\n"
     ]
    }
   ],
   "source": [
    "#create a tuple\n",
    "t = (1,2,3)\n",
    "\n",
    "t2 = tuple('kane')\n",
    "\n",
    "print(t,t2)"
   ]
  },
  {
   "cell_type": "code",
   "execution_count": 11,
   "metadata": {},
   "outputs": [
    {
     "name": "stdout",
     "output_type": "stream",
     "text": [
      "('x', 'one')\n",
      "('y', 'two')\n"
     ]
    }
   ],
   "source": [
    "#tuples can be used to assign more than one vaiable at a time\n",
    "\n",
    "x,y = ['one','two']\n",
    "print(\"x\",x)\n",
    "print(\"y\",y)"
   ]
  },
  {
   "cell_type": "code",
   "execution_count": 12,
   "metadata": {},
   "outputs": [
    {
     "name": "stdout",
     "output_type": "stream",
     "text": [
      "('x', 'two')\n",
      "('y', 'one')\n"
     ]
    }
   ],
   "source": [
    "#we can also use them to swap values between variables\n",
    "x,y = y,x\n",
    "print(\"x\",x)\n",
    "print(\"y\",y)"
   ]
  },
  {
   "cell_type": "markdown",
   "metadata": {},
   "source": [
    "## Dictionaries\n",
    "Arbitrary collections of objects indexed by numbers, strings, or other immutable objects (hashable). Dictionaries are mutable but their index keys must not be mutable"
   ]
  },
  {
   "cell_type": "code",
   "execution_count": 13,
   "metadata": {},
   "outputs": [
    {
     "data": {
      "text/plain": [
       "2"
      ]
     },
     "execution_count": 13,
     "metadata": {},
     "output_type": "execute_result"
    }
   ],
   "source": [
    "#length\n",
    "d = {'l':5,'k':6}\n",
    "len(d)"
   ]
  },
  {
   "cell_type": "code",
   "execution_count": 14,
   "metadata": {},
   "outputs": [
    {
     "name": "stdout",
     "output_type": "stream",
     "text": [
      "{'k': 6, 'l': 5}\n",
      "{}\n"
     ]
    }
   ],
   "source": [
    "#clear\n",
    "print(d)\n",
    "d.clear()\n",
    "print(d)"
   ]
  },
  {
   "cell_type": "code",
   "execution_count": 16,
   "metadata": {},
   "outputs": [
    {
     "name": "stdout",
     "output_type": "stream",
     "text": [
      "{'k': 6, 'l': 5}\n",
      "{'k': 6, 'l': 5}\n"
     ]
    }
   ],
   "source": [
    "#copy (shallow)\n",
    "d = {'l':5,'k':6}\n",
    "d2 = d.copy()\n",
    "\n",
    "print(d2)"
   ]
  },
  {
   "cell_type": "code",
   "execution_count": 31,
   "metadata": {},
   "outputs": [
    {
     "data": {
      "text/plain": [
       "{'a': [5, 6, 7], 'b': [5, 6, 7], 'c': [5, 6, 7]}"
      ]
     },
     "execution_count": 31,
     "metadata": {},
     "output_type": "execute_result"
    }
   ],
   "source": [
    "#fromkeys (a way to create a dictionary with keys from a sequence)\n",
    "keys,vals = ['a','b','c'],[5,6,7]\n",
    "x = d.fromkeys(keys,vals)\n",
    "x"
   ]
  },
  {
   "cell_type": "code",
   "execution_count": 32,
   "metadata": {},
   "outputs": [
    {
     "data": {
      "text/plain": [
       "[5, 6, 7]"
      ]
     },
     "execution_count": 32,
     "metadata": {},
     "output_type": "execute_result"
    }
   ],
   "source": [
    "#get\n",
    "x.get('b')"
   ]
  },
  {
   "cell_type": "code",
   "execution_count": 34,
   "metadata": {},
   "outputs": [
    {
     "data": {
      "text/plain": [
       "[5, 6, 7]"
      ]
     },
     "execution_count": 34,
     "metadata": {},
     "output_type": "execute_result"
    }
   ],
   "source": [
    "#items (returns a sequence of key:value pairs from the dict)\n",
    "x.items()[1][1]"
   ]
  },
  {
   "cell_type": "code",
   "execution_count": 35,
   "metadata": {},
   "outputs": [
    {
     "data": {
      "text/plain": [
       "5"
      ]
     },
     "execution_count": 35,
     "metadata": {},
     "output_type": "execute_result"
    }
   ],
   "source": [
    "#pop (returns the value associated with that key, or it returns the default if given, and if not KeyError)\n",
    "x.pop('x',5)"
   ]
  },
  {
   "cell_type": "code",
   "execution_count": 37,
   "metadata": {},
   "outputs": [
    {
     "name": "stdout",
     "output_type": "stream",
     "text": [
      "{'c': [5, 6, 7], 'b': [5, 6, 7]}\n",
      "('c', [5, 6, 7])\n",
      "{'b': [5, 6, 7]}\n"
     ]
    }
   ],
   "source": [
    "#popitem (removes a random key:value pair and returns it as a tuple)\n",
    "print(x)\n",
    "print(x.popitem())\n",
    "print(x)"
   ]
  },
  {
   "cell_type": "code",
   "execution_count": 40,
   "metadata": {},
   "outputs": [
    {
     "name": "stdout",
     "output_type": "stream",
     "text": [
      "[6, 7]\n",
      "{'r': [6, 7], 'b': [5, 6, 7]}\n"
     ]
    }
   ],
   "source": [
    "#set default (returns d[k], if not found, returns v and sets d[k] to v)\n",
    "print(x.setdefault('r',[6,7]))\n",
    "print(x)"
   ]
  },
  {
   "cell_type": "code",
   "execution_count": null,
   "metadata": {
    "collapsed": true
   },
   "outputs": [],
   "source": [
    "x.update"
   ]
  }
 ],
 "metadata": {
  "kernelspec": {
   "display_name": "Python 2",
   "language": "python",
   "name": "python2"
  },
  "language_info": {
   "codemirror_mode": {
    "name": "ipython",
    "version": 2
   },
   "file_extension": ".py",
   "mimetype": "text/x-python",
   "name": "python",
   "nbconvert_exporter": "python",
   "pygments_lexer": "ipython2",
   "version": "2.7.13"
  }
 },
 "nbformat": 4,
 "nbformat_minor": 2
}
