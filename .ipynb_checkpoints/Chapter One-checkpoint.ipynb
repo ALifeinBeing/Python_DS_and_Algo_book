{
 "cells": [
  {
   "cell_type": "markdown",
   "metadata": {},
   "source": [
    "## Variable Scope\n",
    "Each time a function executes a new namespace is created, which represents a 'local' environment that contains the names of the parameters and variables that are assigned by the function. To resolve a namespace when the function is called, the python interpreter will search in this order: local, global, built-in. If all of those fail then the 'NameError' exception is returned.\n"
   ]
  },
  {
   "cell_type": "code",
   "execution_count": 28,
   "metadata": {},
   "outputs": [
    {
     "name": "stdout",
     "output_type": "stream",
     "text": [
      "('a:', 1)\n",
      "('b:', 20)\n"
     ]
    }
   ],
   "source": [
    "##watch how the local and global calls interact:\n",
    "a = 10\n",
    "b = 20\n",
    "\n",
    "def my_func():\n",
    "    global a\n",
    "    a = 1\n",
    "    b = 45\n",
    "\n",
    "my_func()\n",
    "print('a:',a)\n",
    "print('b:', b)"
   ]
  },
  {
   "cell_type": "markdown",
   "metadata": {},
   "source": [
    "## Basic Data Types\n",
    "Python has 12 built in data types. \n",
    "4 numeric: int, float, complex, bool\n",
    "4 sequence: str, list, tuple, range\n",
    "1 mapping: dict\n",
    "2 set types"
   ]
  },
  {
   "cell_type": "code",
   "execution_count": 35,
   "metadata": {},
   "outputs": [
    {
     "name": "stdout",
     "output_type": "stream",
     "text": [
      "True\n",
      "False\n",
      "True\n"
     ]
    }
   ],
   "source": [
    "## Comparisons\n",
    "a = [5]; b = [5]\n",
    "print(a == b) # have same value\n",
    "print(a is b) # are the same object\n",
    "print(type(a) is type(b)) # have the same type"
   ]
  },
  {
   "cell_type": "markdown",
   "metadata": {},
   "source": [
    "## Strings\n",
    "Strings are immutable sequence objects (everything in python is an object), all objects use methods to perform operatons"
   ]
  },
  {
   "cell_type": "code",
   "execution_count": 53,
   "metadata": {},
   "outputs": [
    {
     "data": {
      "text/plain": [
       "1"
      ]
     },
     "execution_count": 53,
     "metadata": {},
     "output_type": "execute_result"
    }
   ],
   "source": [
    "#commonly used string methods (keep in mind you need to reassign if you want it to 'stick' and not just return the changed value)\n",
    "\n",
    "#count the number of occurances within the string\n",
    "s = 'kane'\n",
    "s.count('a')"
   ]
  },
  {
   "cell_type": "code",
   "execution_count": 43,
   "metadata": {
    "collapsed": true
   },
   "outputs": [],
   "source": [
    "#expand tabs replaces tabs with spaces (tabs wont work on my keyboard for some reason so just trust me)"
   ]
  },
  {
   "cell_type": "code",
   "execution_count": 44,
   "metadata": {},
   "outputs": [
    {
     "data": {
      "text/plain": [
       "1"
      ]
     },
     "execution_count": 44,
     "metadata": {},
     "output_type": "execute_result"
    }
   ],
   "source": [
    "#find will return the index of the first occurance of a substring or returns -1 if the substring is not found\n",
    "s = 'kaane'\n",
    "s.find('a')"
   ]
  },
  {
   "cell_type": "code",
   "execution_count": 45,
   "metadata": {},
   "outputs": [
    {
     "data": {
      "text/plain": [
       "False"
      ]
     },
     "execution_count": 45,
     "metadata": {},
     "output_type": "execute_result"
    }
   ],
   "source": [
    "#isalnum will return a bool for if the entire string is alphanumeric\n",
    "s = 'ka.ne'\n",
    "s.isalnum()"
   ]
  },
  {
   "cell_type": "code",
   "execution_count": 46,
   "metadata": {},
   "outputs": [
    {
     "data": {
      "text/plain": [
       "True"
      ]
     },
     "execution_count": 46,
     "metadata": {},
     "output_type": "execute_result"
    }
   ],
   "source": [
    "#isalpha will return a bool for if the entire string is alphabetic\n",
    "s = 'Kane'\n",
    "s.isalpha()"
   ]
  },
  {
   "cell_type": "code",
   "execution_count": 47,
   "metadata": {},
   "outputs": [
    {
     "data": {
      "text/plain": [
       "True"
      ]
     },
     "execution_count": 47,
     "metadata": {},
     "output_type": "execute_result"
    }
   ],
   "source": [
    "#isdigit will return a bool for if the entire string is digits\n",
    "s = '12356'\n",
    "s.isdigit()"
   ]
  },
  {
   "cell_type": "code",
   "execution_count": 49,
   "metadata": {},
   "outputs": [
    {
     "data": {
      "text/plain": [
       "'nKane- Kane-MKane-eKane-rKane-rKane-iKane-lKane-l'"
      ]
     },
     "execution_count": 49,
     "metadata": {},
     "output_type": "execute_result"
    }
   ],
   "source": [
    "#join will join the strings in the sequence passed, it joins the first string to each element of the one passed!!\n",
    "s = 'Kane-'\n",
    "t='n Merrill'\n",
    "s.join(t)"
   ]
  },
  {
   "cell_type": "code",
   "execution_count": 50,
   "metadata": {},
   "outputs": [
    {
     "data": {
      "text/plain": [
       "'kane'"
      ]
     },
     "execution_count": 50,
     "metadata": {},
     "output_type": "execute_result"
    }
   ],
   "source": [
    "#lower makes a string all lower case\n",
    "s = 'Kane'\n",
    "s.lower()"
   ]
  },
  {
   "cell_type": "code",
   "execution_count": 56,
   "metadata": {},
   "outputs": [
    {
     "data": {
      "text/plain": [
       "'XKKane'"
      ]
     },
     "execution_count": 56,
     "metadata": {},
     "output_type": "execute_result"
    }
   ],
   "source": [
    "#replace will replace the old substring with the new substring, with an optional number of times\n",
    "s = \"KKKane\"\n",
    "s.replace(\"K\",\"X\",1)"
   ]
  },
  {
   "cell_type": "code",
   "execution_count": 66,
   "metadata": {},
   "outputs": [
    {
     "data": {
      "text/plain": [
       "'Kan e'"
      ]
     },
     "execution_count": 66,
     "metadata": {},
     "output_type": "execute_result"
    }
   ],
   "source": [
    "#strip will remove whitespace (from the ends) or optional characters (cant figure out the optional character part)\n",
    "s = \" Kan e \"\n",
    "s.strip()"
   ]
  },
  {
   "cell_type": "code",
   "execution_count": 70,
   "metadata": {},
   "outputs": [
    {
     "data": {
      "text/plain": [
       "['K', 'an e']"
      ]
     },
     "execution_count": 70,
     "metadata": {},
     "output_type": "execute_result"
    }
   ],
   "source": [
    "#split will split a string separated by whitespace or an optional separator, returns a list\n",
    "s = \"K,an e\"\n",
    "s.split(\",\")"
   ]
  },
  {
   "cell_type": "code",
   "execution_count": 71,
   "metadata": {},
   "outputs": [
    {
     "name": "stdout",
     "output_type": "stream",
     "text": [
      "e\n",
      "ell\n",
      "el o\n",
      "o\n"
     ]
    }
   ],
   "source": [
    "# SLICING STRINGS\n",
    "s = \"hello world\"\n",
    "# you can use an index\n",
    "print(s[1])\n",
    "\n",
    "# You can use a slice\n",
    "print(s[1:4])\n",
    "\n",
    "# You can use a slice\n",
    "print(s[1:8:2])\n",
    "\n",
    "# You can use anything that returns a number\n",
    "print(s[1+3])"
   ]
  },
  {
   "cell_type": "code",
   "execution_count": 73,
   "metadata": {},
   "outputs": [
    {
     "name": "stdout",
     "output_type": "stream",
     "text": [
      "h\n",
      "e\n",
      "l\n",
      "l\n",
      "o\n",
      " \n",
      "w\n",
      "o\n",
      "r\n",
      "l\n",
      "d\n",
      "(0, 'h')\n",
      "(1, 'e')\n",
      "(2, 'l')\n",
      "(3, 'l')\n",
      "(4, 'o')\n",
      "(5, ' ')\n",
      "(6, 'w')\n",
      "(7, 'o')\n",
      "(8, 'r')\n",
      "(9, 'l')\n",
      "(10, 'd')\n"
     ]
    }
   ],
   "source": [
    "# Traversing strings\n",
    "s = 'hello world'\n",
    "#Loops\n",
    "for i in s:\n",
    "    print(i)\n",
    "    \n",
    "for i in enumerate(s):\n",
    "    print(i)"
   ]
  },
  {
   "cell_type": "code",
   "execution_count": 74,
   "metadata": {},
   "outputs": [
    {
     "data": {
      "text/plain": [
       "'57'"
      ]
     },
     "execution_count": 74,
     "metadata": {},
     "output_type": "execute_result"
    }
   ],
   "source": [
    "# Concatenate (strings are immutable so can't change them, have to make new objects), python will NEVER interpret a string as \n",
    "# a number\n",
    "x,y = '5','7'\n",
    "\n",
    "x + y"
   ]
  },
  {
   "cell_type": "markdown",
   "metadata": {},
   "source": [
    "# Lists\n",
    "The most used data type in Python, they can be composed of any other data type including other lists, the common list methods are as follows:"
   ]
  },
  {
   "cell_type": "code",
   "execution_count": 75,
   "metadata": {},
   "outputs": [
    {
     "data": {
      "text/plain": [
       "['K', 'a', 'n', 'e']"
      ]
     },
     "execution_count": 75,
     "metadata": {},
     "output_type": "execute_result"
    }
   ],
   "source": [
    "#list returns the sequence passed as a list\n",
    "s = \"Kane\"\n",
    "list(s)"
   ]
  },
  {
   "cell_type": "code",
   "execution_count": 77,
   "metadata": {},
   "outputs": [
    {
     "data": {
      "text/plain": [
       "[1, 2, 3, 4]"
      ]
     },
     "execution_count": 77,
     "metadata": {},
     "output_type": "execute_result"
    }
   ],
   "source": [
    "#append puts the element passed at the end of the list\n",
    "s = [1,2,3]\n",
    "\n",
    "s.append(4)\n",
    "s"
   ]
  },
  {
   "cell_type": "code",
   "execution_count": 81,
   "metadata": {},
   "outputs": [
    {
     "name": "stdout",
     "output_type": "stream",
     "text": [
      "[1, 2, 3, [4, 5, 6]]\n",
      "[1, 2, 3, 4, 5, 6]\n"
     ]
    }
   ],
   "source": [
    "#extend will append the elements of the list passed to the original list\n",
    "s = [1,2,3]\n",
    "g = [4,5,6]\n",
    "\n",
    "s.append(g)\n",
    "print(s)\n",
    "\n",
    "s = [1,2,3]\n",
    "g = [4,5,6]\n",
    "\n",
    "s.extend(g)\n",
    "print(s)"
   ]
  },
  {
   "cell_type": "code",
   "execution_count": 82,
   "metadata": {},
   "outputs": [
    {
     "data": {
      "text/plain": [
       "1"
      ]
     },
     "execution_count": 82,
     "metadata": {},
     "output_type": "execute_result"
    }
   ],
   "source": [
    "#count will return the occurances of 'x' in the list\n",
    "s = [1,2,3]\n",
    "s.count(1)"
   ]
  },
  {
   "cell_type": "code",
   "execution_count": 85,
   "metadata": {},
   "outputs": [
    {
     "name": "stdout",
     "output_type": "stream",
     "text": [
      "4\n",
      "5\n"
     ]
    }
   ],
   "source": [
    "#index will return the smallest index where the element of the list matches the passed element, can be given start/stop \n",
    "s = [1, 2, 3, 4, 5, 5]\n",
    "print(s.index(5))\n",
    "print(s.index(5,5))"
   ]
  },
  {
   "cell_type": "code",
   "execution_count": 87,
   "metadata": {},
   "outputs": [
    {
     "data": {
      "text/plain": [
       "[1, 2, 5, 3, 4]"
      ]
     },
     "execution_count": 87,
     "metadata": {},
     "output_type": "execute_result"
    }
   ],
   "source": [
    "#insert inserts x at index i\n",
    "s = [1, 2, 3, 4]\n",
    "s.insert(2,5)\n",
    "s"
   ]
  },
  {
   "cell_type": "code",
   "execution_count": 90,
   "metadata": {},
   "outputs": [
    {
     "name": "stdout",
     "output_type": "stream",
     "text": [
      "4\n",
      "[1, 2, 3]\n"
     ]
    }
   ],
   "source": [
    "#pop removes the element at that index and returns is\n",
    "s = [1, 2, 3, 4]\n",
    "print(s.pop(3))\n",
    "print(s)"
   ]
  },
  {
   "cell_type": "code",
   "execution_count": 95,
   "metadata": {},
   "outputs": [
    {
     "name": "stdout",
     "output_type": "stream",
     "text": [
      "[1, 2, 3, 4]\n",
      "[1, 2, 3]\n"
     ]
    }
   ],
   "source": [
    "#remove removes the element from the list (once apparently)\n",
    "s = [1, 2, 3, 4, 4]\n",
    "\n",
    "s.remove(4)\n",
    "print(s)\n",
    "\n",
    "s.remove(4)\n",
    "print(s)"
   ]
  },
  {
   "cell_type": "code",
   "execution_count": 96,
   "metadata": {},
   "outputs": [
    {
     "data": {
      "text/plain": [
       "[4, 3, 2, 1]"
      ]
     },
     "execution_count": 96,
     "metadata": {},
     "output_type": "execute_result"
    }
   ],
   "source": [
    "#reverse will reverse the order of the list\n",
    "s = [1, 2, 3, 4]\n",
    "s.reverse()\n",
    "\n",
    "s"
   ]
  },
  {
   "cell_type": "code",
   "execution_count": 106,
   "metadata": {},
   "outputs": [
    {
     "name": "stdout",
     "output_type": "stream",
     "text": [
      "[1, 2, 3, 4]\n",
      "[4, 3, 2, 1]\n"
     ]
    }
   ],
   "source": [
    "#sort will sort with an optional key and also a reverse parameter (named)\n",
    "s = [ 4, 2, 1, 3]\n",
    "s.sort()\n",
    "print(s)\n",
    "\n",
    "s = [4, 2, 1, 3]\n",
    "s.sort(key = lambda x: (1.0 / x))\n",
    "print(s)"
   ]
  },
  {
   "cell_type": "markdown",
   "metadata": {},
   "source": [
    "Lists are 'container' objects in python, and thus python will only change them if it MUST, the name is really just a pointer to the object stored in memory"
   ]
  },
  {
   "cell_type": "code",
   "execution_count": 107,
   "metadata": {},
   "outputs": [
    {
     "data": {
      "text/plain": [
       "[1, 4, 3]"
      ]
     },
     "execution_count": 107,
     "metadata": {},
     "output_type": "execute_result"
    }
   ],
   "source": [
    "x,y,z = 1,2,3\n",
    "\n",
    "list1 = [x, y, z]\n",
    "list2 = list1\n",
    "\n",
    "list2[1] = 4\n",
    "\n",
    "list1"
   ]
  },
  {
   "cell_type": "code",
   "execution_count": 108,
   "metadata": {},
   "outputs": [
    {
     "data": {
      "text/plain": [
       "[1, 8, 27]"
      ]
     },
     "execution_count": 108,
     "metadata": {},
     "output_type": "execute_result"
    }
   ],
   "source": [
    "#list comprehensions are a great way to create lists on the fly without separate functions or writing every element of the list\n",
    "l = [1, 2, 3]\n",
    "[i**3 for i in l]"
   ]
  },
  {
   "cell_type": "code",
   "execution_count": 110,
   "metadata": {},
   "outputs": [
    {
     "name": "stdout",
     "output_type": "stream",
     "text": [
      "[0, 8, 16, 24, 32, 40, 48, 56, 64, 72, 80, 88, 96, 104, 112, 120]\n",
      "[0, 8, 16, 24, 32, 40, 48, 56, 64, 72, 80, 88, 96, 104, 112, 120]\n"
     ]
    }
   ],
   "source": [
    "#you can do crazy stuff with list comprehensions\n",
    "def f1(x): return x*2\n",
    "def f2(x): return x*4\n",
    "\n",
    "lst = []\n",
    "\n",
    "for i in range(16):\n",
    "    lst.append(f1(f2(i)))\n",
    "    \n",
    "\n",
    "print(lst)\n",
    "\n",
    "print([f1(x) for x in range(64) if x in [f2(j) for j in range(16)]])"
   ]
  },
  {
   "cell_type": "code",
   "execution_count": 111,
   "metadata": {},
   "outputs": [
    {
     "data": {
      "text/plain": [
       "[4, 5, 6, 8, 10, 12, 12, 15, 18]"
      ]
     },
     "execution_count": 111,
     "metadata": {},
     "output_type": "execute_result"
    }
   ],
   "source": [
    "#you can use list comprehensions to replicate loops\n",
    "list1 = [[1,2,3],[4,5,6]]\n",
    "\n",
    "[i * j for i in list1[0] for j in list1[1]]"
   ]
  },
  {
   "cell_type": "code",
   "execution_count": 112,
   "metadata": {},
   "outputs": [
    {
     "data": {
      "text/plain": [
       "[['here', 4], ['is', 2], ['a', 1], ['sentence', 8]]"
      ]
     },
     "execution_count": 112,
     "metadata": {},
     "output_type": "execute_result"
    }
   ],
   "source": [
    "#you can use list comprehensions with other objects such as strings to build more complex structures \n",
    "words = 'here is a sentence'.split()\n",
    "\n",
    "[[word,len(word)] for word in words]"
   ]
  },
  {
   "cell_type": "markdown",
   "metadata": {},
   "source": [
    "# First Class Objects\n",
    "In python data types as well as functions and classes are what are known as 'first class data objects', which allows them to be manipulated in the same ways as built-in data types. By definition, first class data objects are: <br>\n",
    "1) created at runtime <br>\n",
    "2) Assigned as a variable or in a data structure <br>\n",
    "3) Passed as an argument to a function <br>\n",
    "4) Returned as the result of a function <br>\n",
    "--'first class' is kind of dumb in python since ALL objects are first class in python"
   ]
  },
  {
   "cell_type": "code",
   "execution_count": 118,
   "metadata": {},
   "outputs": [
    {
     "data": {
      "text/plain": [
       "'Bonjour'"
      ]
     },
     "execution_count": 118,
     "metadata": {},
     "output_type": "execute_result"
    }
   ],
   "source": [
    "#since functions are first class we can include them in objects\n",
    "def greeting(language):\n",
    "    if language == 'eng':\n",
    "        return 'hello world'\n",
    "    elif language == 'fr':\n",
    "        return 'Bonjour'\n",
    "    else: return 'wrong language'\n",
    "    \n",
    "l = [greeting('eng'),greeting('fr')]\n",
    "l[1]"
   ]
  },
  {
   "cell_type": "code",
   "execution_count": 120,
   "metadata": {},
   "outputs": [
    {
     "data": {
      "text/plain": [
       "'hello world'"
      ]
     },
     "execution_count": 120,
     "metadata": {},
     "output_type": "execute_result"
    }
   ],
   "source": [
    "#functions can also be used as arguments to other functions!!!, think how useful this would be to set a local variable of \n",
    "#language and try a bunch of different functions with that language set\n",
    "def callf(f):\n",
    "    lang='eng'\n",
    "    return(f(lang))\n",
    "\n",
    "callf(greeting)"
   ]
  },
  {
   "cell_type": "code",
   "execution_count": 3,
   "metadata": {},
   "outputs": [
    {
     "data": {
      "text/plain": [
       "[1, 8, 27, 64]"
      ]
     },
     "execution_count": 3,
     "metadata": {},
     "output_type": "execute_result"
    }
   ],
   "source": [
    "#Functions that take other functions as arguments, or that return functions, are called 'higher order functions'\n",
    "#Python3 has 2 higher order functions: filter() and map(), they return iterators in Python3 where before they returned lists,\n",
    "#NOTE:***this is a Python2 notebook lmao***\n",
    "\n",
    "lst = [1,2,3,4]\n",
    "map(lambda x: x**3,lst)"
   ]
  },
  {
   "cell_type": "code",
   "execution_count": 4,
   "metadata": {},
   "outputs": [
    {
     "data": {
      "text/plain": [
       "[1, 2]"
      ]
     },
     "execution_count": 4,
     "metadata": {},
     "output_type": "execute_result"
    }
   ],
   "source": [
    "filter(lambda x: x < 3,lst)"
   ]
  },
  {
   "cell_type": "code",
   "execution_count": 6,
   "metadata": {},
   "outputs": [
    {
     "data": {
      "text/plain": [
       "['sentence', 'longest', 'word', 'the', 'the', 'in']"
      ]
     },
     "execution_count": 6,
     "metadata": {},
     "output_type": "execute_result"
    }
   ],
   "source": [
    "#higher order functions is a mark of the 'functional' programming style\n",
    "words = str.split('the longest word in the sentence')\n",
    "sorted(words, key=len,reverse=True)"
   ]
  },
  {
   "cell_type": "code",
   "execution_count": 7,
   "metadata": {
    "collapsed": true
   },
   "outputs": [],
   "source": [
    "#Difference between list.sort() and sorted(list), '.sort()' returns 'None' and changes the underlying list instead of returning\n",
    "#a sorted copy\n",
    "#It is an important convention in Python that functions or methods that change the underlying object return 'None'"
   ]
  },
  {
   "cell_type": "code",
   "execution_count": 13,
   "metadata": {},
   "outputs": [
    {
     "data": {
      "text/plain": [
       "[['mice', 7, 15], ['rice', 2.4, 9], ['flour', 5, 6]]"
      ]
     },
     "execution_count": 13,
     "metadata": {},
     "output_type": "execute_result"
    }
   ],
   "source": [
    "#more sorting\n",
    "items = [['rice',2.4,9],['flour',5,6],['mice',7,15]]\n",
    "items.sort(key=lambda item: item[2],reverse=True)\n",
    "\n",
    "items"
   ]
  },
  {
   "cell_type": "markdown",
   "metadata": {},
   "source": [
    "## Recursion\n",
    "Recursion is one of the most fundamental concepts in computer science, in Python we simply call a function within the function body to use it. We can almost always turn a recursive function into an interative function and vice versa"
   ]
  },
  {
   "cell_type": "code",
   "execution_count": 15,
   "metadata": {},
   "outputs": [
    {
     "name": "stdout",
     "output_type": "stream",
     "text": [
      "5\n",
      "6\n",
      "7\n",
      "8\n",
      "9\n",
      "10\n"
     ]
    }
   ],
   "source": [
    "def iterTest(low,high):\n",
    "    while low <= high:\n",
    "        print(low)\n",
    "        low += 1\n",
    "\n",
    "iterTest(5,10)"
   ]
  },
  {
   "cell_type": "code",
   "execution_count": 19,
   "metadata": {},
   "outputs": [
    {
     "name": "stdout",
     "output_type": "stream",
     "text": [
      "5\n",
      "6\n",
      "7\n",
      "8\n",
      "9\n",
      "10\n"
     ]
    }
   ],
   "source": [
    "def recurTest(low,high):\n",
    "    if low <= high:\n",
    "        print(low)\n",
    "        recurTest(low+1,high)\n",
    "        \n",
    "recurTest(5,10)"
   ]
  },
  {
   "cell_type": "markdown",
   "metadata": {},
   "source": [
    "## Generators and co-routines\n",
    "Functions that do not just yield one result, but an entire sequence of results, by using 'yield', are called 'generators'. We use them instead of creating incredibly long lists, since they don't create the list, but instead just allow you to yield items that would have been in the list"
   ]
  },
  {
   "cell_type": "code",
   "execution_count": 21,
   "metadata": {},
   "outputs": [
    {
     "name": "stdout",
     "output_type": "stream",
     "text": [
      "Time to sum an iterator: 0.707000\n",
      "Time to build and sum a list: 1.149000\n"
     ]
    }
   ],
   "source": [
    "# compares the running time of a list compared to a generator\n",
    "import time\n",
    "\n",
    "# generator function creates an iterator of odd numbers between n and m\n",
    "def oddGen(n,m):\n",
    "    while n < m:\n",
    "        yield n\n",
    "        n += 2\n",
    "\n",
    "# builds a list of odd numbers between n and m\n",
    "def oddList(n,m):\n",
    "    lst = []\n",
    "    while n < m:\n",
    "        lst.append(n)\n",
    "        n += 2\n",
    "    return lst\n",
    "\n",
    "#the time it takes to perform sum on an iterator\n",
    "t1=time.time()\n",
    "sum(oddGen(1,10000000))\n",
    "print(\"Time to sum an iterator: %f\" % (time.time() - t1))\n",
    "\n",
    "#the time it takes to perform sum on a list\n",
    "t1=time.time()\n",
    "sum(oddList(1,10000000))\n",
    "print(\"Time to build and sum a list: %f\" % (time.time() - t1))"
   ]
  },
  {
   "cell_type": "markdown",
   "metadata": {},
   "source": [
    "This savings is since there is no need to save the entire list in memory as you build and sum it, this is done by calling the special __next__() method, Generators NEVER return a value other than None. They are typically used in 'for loops', for example if you wanted to count the numbers from 1-10"
   ]
  },
  {
   "cell_type": "code",
   "execution_count": 22,
   "metadata": {},
   "outputs": [
    {
     "name": "stdout",
     "output_type": "stream",
     "text": [
      "1\n",
      "3\n",
      "5\n",
      "7\n",
      "9\n"
     ]
    }
   ],
   "source": [
    "for i in oddGen(1,10):print(i)"
   ]
  },
  {
   "cell_type": "markdown",
   "metadata": {},
   "source": [
    "There are also **generator expressions** which are the same as generators, with the same syntax as list comprehensions but with () instead of []"
   ]
  },
  {
   "cell_type": "code",
   "execution_count": 24,
   "metadata": {
    "collapsed": true
   },
   "outputs": [],
   "source": [
    "gen1 = (i * 5 for i in range(5))"
   ]
  },
  {
   "cell_type": "code",
   "execution_count": 25,
   "metadata": {},
   "outputs": [
    {
     "data": {
      "text/plain": [
       "<generator object <genexpr> at 0x0000000004774048>"
      ]
     },
     "execution_count": 25,
     "metadata": {},
     "output_type": "execute_result"
    }
   ],
   "source": [
    "gen1"
   ]
  },
  {
   "cell_type": "code",
   "execution_count": 27,
   "metadata": {},
   "outputs": [
    {
     "name": "stdout",
     "output_type": "stream",
     "text": [
      "0\n",
      "5\n",
      "10\n",
      "15\n",
      "20\n"
     ]
    }
   ],
   "source": [
    "for x in gen1: print(x)"
   ]
  },
  {
   "cell_type": "markdown",
   "metadata": {},
   "source": [
    "## Classes and object programming\n",
    "\n",
    "Classes are a way to create new kinds of objects and are central to object-oriented programming. A class defines a set of attributes that are shared across instances of that class. Typically classes are sets of functions, variables, and propeties. This is an entire ** *way of thinking* ** that organizes our programs around **objects** and **data** instead of **actions** and **logic**.\n",
    "\n",
    "Creating a class does not make any instances of the class, they must be created. A class is a set of methods, class variables, and computed properties. The functions inside of a class are called **instance methods** and apply some operations to the class instance by first passing the instance of that class as the first argument. ('self')"
   ]
  },
  {
   "cell_type": "code",
   "execution_count": 37,
   "metadata": {
    "collapsed": true
   },
   "outputs": [],
   "source": [
    "class Employee(object):\n",
    "    numEmployee = 0\n",
    "    def __init__(self, name, rate):\n",
    "        self.owed = 0\n",
    "        self.name = name\n",
    "        self.rate = rate\n",
    "        Employee.numEmployee += 1\n",
    "    \n",
    "    def __del__(self):\n",
    "        Employee.numEmployee -= 1\n",
    "        \n",
    "    def hours(self, numHours):\n",
    "        self.owed += numHours * self.rate\n",
    "        return(\"%i hours worked\" % numHours)\n",
    "    \n",
    "    def pay(self):\n",
    "        self.owed = 0\n",
    "        return(\"payed %s\" % self.name)\n",
    "    "
   ]
  },
  {
   "cell_type": "code",
   "execution_count": 38,
   "metadata": {},
   "outputs": [
    {
     "data": {
      "text/plain": [
       "'10 hours worked'"
      ]
     },
     "execution_count": 38,
     "metadata": {},
     "output_type": "execute_result"
    }
   ],
   "source": [
    "kane = Employee(\"Kane\",100)\n",
    "\n",
    "kane.hours(10)\n"
   ]
  },
  {
   "cell_type": "code",
   "execution_count": 32,
   "metadata": {},
   "outputs": [
    {
     "data": {
      "text/plain": [
       "'payed Kane '"
      ]
     },
     "execution_count": 32,
     "metadata": {},
     "output_type": "execute_result"
    }
   ],
   "source": [
    "kane.pay()"
   ]
  },
  {
   "cell_type": "markdown",
   "metadata": {
    "collapsed": true
   },
   "source": [
    "## special methods\n",
    "The dir(object) function will get a list of attributes of a specific object, the methods that begin and end with two underscores are special methods, they are generaly called by the Python interprer and not the programmer. The only real exception is the __init__ method that is called as we make a new object. Generally do not use the double underscore in your programs. BUT you can hijack some of them '__repr__' for instance to give a string representation of your object"
   ]
  },
  {
   "cell_type": "code",
   "execution_count": 86,
   "metadata": {},
   "outputs": [
    {
     "data": {
      "text/plain": [
       "['__add__',\n",
       " '__class__',\n",
       " '__contains__',\n",
       " '__delattr__',\n",
       " '__delitem__',\n",
       " '__delslice__',\n",
       " '__doc__',\n",
       " '__eq__',\n",
       " '__format__',\n",
       " '__ge__',\n",
       " '__getattribute__',\n",
       " '__getitem__',\n",
       " '__getslice__',\n",
       " '__gt__',\n",
       " '__hash__',\n",
       " '__iadd__',\n",
       " '__imul__',\n",
       " '__init__',\n",
       " '__iter__',\n",
       " '__le__',\n",
       " '__len__',\n",
       " '__lt__',\n",
       " '__mul__',\n",
       " '__ne__',\n",
       " '__new__',\n",
       " '__reduce__',\n",
       " '__reduce_ex__',\n",
       " '__repr__',\n",
       " '__reversed__',\n",
       " '__rmul__',\n",
       " '__setattr__',\n",
       " '__setitem__',\n",
       " '__setslice__',\n",
       " '__sizeof__',\n",
       " '__str__',\n",
       " '__subclasshook__',\n",
       " 'append',\n",
       " 'count',\n",
       " 'extend',\n",
       " 'index',\n",
       " 'insert',\n",
       " 'pop',\n",
       " 'remove',\n",
       " 'reverse',\n",
       " 'sort']"
      ]
     },
     "execution_count": 86,
     "metadata": {},
     "output_type": "execute_result"
    }
   ],
   "source": [
    "dir(kane)"
   ]
  },
  {
   "cell_type": "code",
   "execution_count": 87,
   "metadata": {},
   "outputs": [
    {
     "data": {
      "text/plain": [
       "a custom string to be sent ('giday')"
      ]
     },
     "execution_count": 87,
     "metadata": {},
     "output_type": "execute_result"
    }
   ],
   "source": [
    "class my_class():\n",
    "    def __init__(self, greet):\n",
    "        self.greet = greet\n",
    "    \n",
    "    def __repr__(self):\n",
    "        return 'a custom string to be sent (%r)' % (self.greet)\n",
    "\n",
    "a = my_class('giday')\n",
    "a"
   ]
  },
  {
   "cell_type": "markdown",
   "metadata": {},
   "source": [
    "## Inheritance\n",
    "It is possible to create a new class that modifes the behavior of an existing class through inheritance. This is done by passing the inherited class as an argument in the class definition, it is often used to modify the behavior of existing methods"
   ]
  },
  {
   "cell_type": "code",
   "execution_count": 108,
   "metadata": {
    "collapsed": true
   },
   "outputs": [],
   "source": [
    "class specialEmployee(Employee):\n",
    "    def hours(self, numHours):\n",
    "        self.owed += numHours * self.rate * 2\n",
    "        return(\"%.2f hours worked\" % numHours)"
   ]
  },
  {
   "cell_type": "code",
   "execution_count": 111,
   "metadata": {
    "collapsed": true
   },
   "outputs": [],
   "source": [
    "kane = Employee(name=\"kane\",rate=5)\n",
    "Logan = specialEmployee(name=\"Logan\",rate=5,bonus=7)"
   ]
  },
  {
   "cell_type": "code",
   "execution_count": 95,
   "metadata": {},
   "outputs": [
    {
     "data": {
      "text/plain": [
       "25"
      ]
     },
     "execution_count": 95,
     "metadata": {},
     "output_type": "execute_result"
    }
   ],
   "source": [
    "kane.hours(5)\n",
    "kane.owed"
   ]
  },
  {
   "cell_type": "code",
   "execution_count": 105,
   "metadata": {},
   "outputs": [
    {
     "data": {
      "text/plain": [
       "175"
      ]
     },
     "execution_count": 105,
     "metadata": {},
     "output_type": "execute_result"
    }
   ],
   "source": [
    "Logan.hours(5)\n",
    "Logan.owed"
   ]
  },
  {
   "cell_type": "code",
   "execution_count": 110,
   "metadata": {
    "collapsed": true
   },
   "outputs": [],
   "source": [
    "#You can also have a subclass define new class variables, but then it needs its own __init__ method:\n",
    "\n",
    "class specialEmployee(Employee):\n",
    "    def __init__(self,name,rate,bonus):\n",
    "        Employee.__init__(self,name,rate)\n",
    "        self.bonus = bonus\n",
    "    \n",
    "    def hours(self, numHours):\n",
    "        self.owed += numHours * self.rate * self.bonus\n",
    "        return(\"%.2f hours worked\" % numHours)"
   ]
  },
  {
   "cell_type": "code",
   "execution_count": 114,
   "metadata": {},
   "outputs": [
    {
     "data": {
      "text/plain": [
       "True"
      ]
     },
     "execution_count": 114,
     "metadata": {},
     "output_type": "execute_result"
    }
   ],
   "source": [
    "#you can check if an object is an instance of another or a class that is derived from it with 'isinstance(obj1,obj2)\n",
    "isinstance(kane,Employee)"
   ]
  },
  {
   "cell_type": "markdown",
   "metadata": {},
   "source": [
    "It is assumed the all methods operate on the instance, but that is not a requirement, a 'static method' or 'class method' does not, a 'static method' is just an ordinary function that happens to be defined in a class. It does not perform any operations on the instance and it is defined using the '@staticmethod' class decorator. Static methods can NOT access the instances attributes, so most commonly they are used to group utility functions together (is this like a package?) There are also class methods that are designated with the '@classmethod' designation, these method operate on the class itself, not the instance, they are important so that you can force something to not break inherited methods."
   ]
  },
  {
   "cell_type": "code",
   "execution_count": 11,
   "metadata": {
    "collapsed": true
   },
   "outputs": [],
   "source": [
    "class Aexp(object):\n",
    "    base = 2\n",
    "    @classmethod\n",
    "    def exp(cls,x):\n",
    "        return(cls.base**x)\n",
    "\n",
    "class Bexp(Aexp):\n",
    "    base = 3"
   ]
  },
  {
   "cell_type": "code",
   "execution_count": 12,
   "metadata": {},
   "outputs": [
    {
     "data": {
      "text/plain": [
       "27"
      ]
     },
     "execution_count": 12,
     "metadata": {},
     "output_type": "execute_result"
    }
   ],
   "source": [
    "#notice how even though I changed the base value for the one instance, it still returns the result as if the base was 3\n",
    "BxSqr = Bexp()\n",
    "BxSqr.base = 5\n",
    "\n",
    "BxSqr.exp(3)"
   ]
  },
  {
   "cell_type": "markdown",
   "metadata": {},
   "source": [
    "# Data Encapsulation\n",
    "Unless otherwise defined, all attributes and methods are accessible without restriction. So you can get at things from the base class with an instance of a derived class. To avoid naming collisions you can start names with a double underscore which will automatically change the name to _Classname__privateMethod()"
   ]
  },
  {
   "cell_type": "code",
   "execution_count": 26,
   "metadata": {},
   "outputs": [],
   "source": [
    "class addNum(object):\n",
    "    def __add(self,a,b):\n",
    "        return(a + b)"
   ]
  },
  {
   "cell_type": "code",
   "execution_count": 27,
   "metadata": {},
   "outputs": [],
   "source": [
    "class fakeNum(addNum):\n",
    "    base = 5"
   ]
  },
  {
   "cell_type": "code",
   "execution_count": 28,
   "metadata": {},
   "outputs": [
    {
     "data": {
      "text/plain": [
       "11"
      ]
     },
     "execution_count": 28,
     "metadata": {},
     "output_type": "execute_result"
    }
   ],
   "source": [
    "x = fakeNum()\n",
    "x._addNum__add(5,6)"
   ]
  },
  {
   "cell_type": "code",
   "execution_count": null,
   "metadata": {
    "collapsed": true
   },
   "outputs": [],
   "source": []
  }
 ],
 "metadata": {
  "kernelspec": {
   "display_name": "Python 2",
   "language": "python",
   "name": "python2"
  },
  "language_info": {
   "codemirror_mode": {
    "name": "ipython",
    "version": 2
   },
   "file_extension": ".py",
   "mimetype": "text/x-python",
   "name": "python",
   "nbconvert_exporter": "python",
   "pygments_lexer": "ipython2",
   "version": "2.7.13"
  }
 },
 "nbformat": 4,
 "nbformat_minor": 2
}
